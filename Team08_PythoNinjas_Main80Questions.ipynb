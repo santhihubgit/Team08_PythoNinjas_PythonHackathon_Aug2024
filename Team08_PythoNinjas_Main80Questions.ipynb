{
 "cells": [
  {
   "cell_type": "code",
   "execution_count": null,
   "id": "cd1ae554-5d6d-44c6-a9c2-e1b7c92f8d3c",
   "metadata": {},
   "outputs": [],
   "source": [
    "Hi Guys\n"
   ]
  },
  {
   "cell_type": "code",
   "execution_count": null,
   "id": "6eb73eff-3112-4875-ad76-ec72bd50aa07",
   "metadata": {},
   "outputs": [],
   "source": [
    "Welcome to Python Hackathon"
   ]
  },
  {
   "cell_type": "code",
   "execution_count": 1,
   "id": "0567c93d-db35-4e62-b94a-ad2b367df038",
   "metadata": {},
   "outputs": [
    {
     "name": "stdout",
     "output_type": "stream",
     "text": [
      "The sum is:  5\n"
     ]
    }
   ],
   "source": [
    "a=2\n",
    "b=3\n",
    "print(\"The sum is: \",a+b)"
   ]
  },
  {
   "cell_type": "code",
   "execution_count": null,
   "id": "b21b2a70-9745-429f-90e5-b875cfb79efa",
   "metadata": {},
   "outputs": [],
   "source": []
  }
 ],
 "metadata": {
  "kernelspec": {
   "display_name": "Python 3 (ipykernel)",
   "language": "python",
   "name": "python3"
  },
  "language_info": {
   "codemirror_mode": {
    "name": "ipython",
    "version": 3
   },
   "file_extension": ".py",
   "mimetype": "text/x-python",
   "name": "python",
   "nbconvert_exporter": "python",
   "pygments_lexer": "ipython3",
   "version": "3.11.7"
  }
 },
 "nbformat": 4,
 "nbformat_minor": 5
}
