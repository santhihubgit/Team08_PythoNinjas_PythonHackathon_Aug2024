{
 "cells": [
  {
   "cell_type": "code",
   "execution_count": null,
   "id": "cd1ae554-5d6d-44c6-a9c2-e1b7c92f8d3c",
   "metadata": {},
   "outputs": [],
   "source": [
    "Hi Guys\n"
   ]
  },
  {
   "cell_type": "code",
   "execution_count": null,
   "id": "6eb73eff-3112-4875-ad76-ec72bd50aa07",
   "metadata": {},
   "outputs": [],
   "source": [
    "Welcome to Python Hackathon"
   ]
  }
 ],
 "metadata": {
  "kernelspec": {
   "display_name": "Python 3 (ipykernel)",
   "language": "python",
   "name": "python3"
  },
  "language_info": {
   "codemirror_mode": {
    "name": "ipython",
    "version": 3
   },
   "file_extension": ".py",
   "mimetype": "text/x-python",
   "name": "python",
   "nbconvert_exporter": "python",
   "pygments_lexer": "ipython3",
   "version": "3.11.7"
  }
 },
 "nbformat": 4,
 "nbformat_minor": 5
}
