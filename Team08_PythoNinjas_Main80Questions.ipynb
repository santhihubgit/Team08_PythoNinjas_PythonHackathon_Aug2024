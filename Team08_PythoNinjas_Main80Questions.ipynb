{
 "cells": [
  {
   "cell_type": "code",
   "execution_count": null,
   "id": "cd1ae554-5d6d-44c6-a9c2-e1b7c92f8d3c",
   "metadata": {},
   "outputs": [],
   "source": [
    "!pip install pandas\n"
   ]
  },
  {
   "cell_type": "code",
   "execution_count": 7,
   "id": "f8a3ebc8-a0fc-4b13-9f83-0d44446af58a",
   "metadata": {},
   "outputs": [],
   "source": [
    "# Importing packages needed\n",
    "import pandas as pd\n",
    "import warnings\n",
    "warnings.simplefilter(action='ignore', category=UserWarning)\n",
    "import numpy as np\n",
    "import matplotlib.pyplot as plt\n",
    "import seaborn as sns"
   ]
  },
  {
   "cell_type": "code",
   "execution_count": 8,
   "id": "df8c0ce6-6b72-4146-8fcf-b6e33280fc69",
   "metadata": {},
   "outputs": [],
   "source": [
    "# Reading data into dataframes\n",
    "Kayaking=pd.read_excel(r\"V02Max_Combined.xlsx\",sheet_name=0)\n",
    "Athletes=pd.read_excel(r\"V02Max_Combined.xlsx\",sheet_name=1)\n",
    "Triathlon=pd.read_excel(r\"V02Max_Combined.xlsx\",sheet_name=2)\n",
    "Fencing=pd.read_excel(r\"V02Max_Combined.xlsx\",sheet_name=3)"
   ]
  },
  {
   "cell_type": "markdown",
   "id": "2c2b346f-a09c-48fe-82f6-9e6a0407ee64",
   "metadata": {},
   "source": [
    "## 1)Join all sport-related tables to produce one dataframe that has all athletes values. The final table should only have the same 5 columns: ID, time,power,RR, vo2, power. Write this dataframe to an excel file."
   ]
  },
  {
   "cell_type": "code",
   "execution_count": null,
   "id": "a7a0572a-97c6-4594-81b5-e3795c4ffbb4",
   "metadata": {},
   "outputs": [],
   "source": []
  },
  {
   "cell_type": "markdown",
   "id": "3ab49a02-18cf-4562-bef7-09ca049f775c",
   "metadata": {},
   "source": [
    "## 2)Divide the rows into 3 parts: Warm up, GET(graded exercise test) and cool down using the data def. Label each row accordingly"
   ]
  },
  {
   "cell_type": "code",
   "execution_count": null,
   "id": "0ce57f1f-7cef-437e-a6dd-7febc926025a",
   "metadata": {},
   "outputs": [],
   "source": []
  },
  {
   "cell_type": "markdown",
   "id": "126228f1-1201-4359-81bb-1d4cf267680b",
   "metadata": {},
   "source": [
    "## 3)What was the average time each tested lasted excluding warm up for all athletes?"
   ]
  },
  {
   "cell_type": "code",
   "execution_count": null,
   "id": "2b4698b1-7dbc-4454-ac4c-261c398fe4ff",
   "metadata": {},
   "outputs": [],
   "source": []
  },
  {
   "cell_type": "markdown",
   "id": "c7312147-05eb-4f53-8cf9-ba6617813647",
   "metadata": {},
   "source": [
    "## 4)Athletes from which sport had the highest average cardiorespiratory fitness in terms of HRV?"
   ]
  },
  {
   "cell_type": "code",
   "execution_count": null,
   "id": "96a94b11-d8a8-48c1-a1d1-3c1a10ad46fa",
   "metadata": {},
   "outputs": [],
   "source": []
  },
  {
   "cell_type": "markdown",
   "id": "df76f9f3-60d5-4233-99cb-9ed6e99dd825",
   "metadata": {},
   "source": [
    "## 5)What was the average time each test lasted (including warm up) for all athletes?"
   ]
  },
  {
   "cell_type": "code",
   "execution_count": null,
   "id": "6a79fa38-7a03-405d-9624-af8cb4dd05b1",
   "metadata": {},
   "outputs": [],
   "source": []
  },
  {
   "cell_type": "markdown",
   "id": "fa27fbdb-731a-489f-b56d-9e3832846602",
   "metadata": {},
   "source": [
    "## 6)What was the most common  wattage (above 0) achieved by participants and for how many seconds (average time)? You may choose to show averages based on any one/all sports. "
   ]
  },
  {
   "cell_type": "code",
   "execution_count": null,
   "id": "b421f81e-4a7e-45b0-90df-ac275b5c29ac",
   "metadata": {},
   "outputs": [],
   "source": []
  },
  {
   "cell_type": "markdown",
   "id": "b7ef6131-03a8-4340-9a1d-2c41dba951da",
   "metadata": {},
   "source": [
    "## 7)Create a correlation matrix to show the relationship between HR, BMI and sport."
   ]
  },
  {
   "cell_type": "code",
   "execution_count": null,
   "id": "53839a6d-f7e7-4759-8e5d-2ac1e2f9c2e0",
   "metadata": {},
   "outputs": [],
   "source": []
  },
  {
   "cell_type": "markdown",
   "id": "9e4f4c8a-6453-490b-a65b-805c80f05939",
   "metadata": {},
   "source": [
    "## 8)What are the names of the kayaking athletes?"
   ]
  },
  {
   "cell_type": "code",
   "execution_count": null,
   "id": "4e7c9c39-a34b-4158-a720-fae443dc13a6",
   "metadata": {},
   "outputs": [],
   "source": []
  },
  {
   "cell_type": "markdown",
   "id": "1424f976-7077-48f6-960c-e7a310854b5b",
   "metadata": {},
   "source": [
    "## 9)What was the average HRV of the triathletes?"
   ]
  },
  {
   "cell_type": "code",
   "execution_count": null,
   "id": "289c4055-2256-4a7f-af85-2f1ec66f553c",
   "metadata": {},
   "outputs": [],
   "source": []
  },
  {
   "cell_type": "markdown",
   "id": "cb40f776-d2a7-4c8a-8b8c-cf0f8dfdd219",
   "metadata": {},
   "source": [
    "## 10)How long was athlete 12 in HR Zone 5?"
   ]
  },
  {
   "cell_type": "code",
   "execution_count": null,
   "id": "9ff22915-a646-45be-b82c-2c398df35db1",
   "metadata": {},
   "outputs": [],
   "source": []
  },
  {
   "cell_type": "markdown",
   "id": "33be5665-e74d-4295-a6f6-c819c41d01bb",
   "metadata": {},
   "source": [
    "## 11)Create any 3d plot using any data. Values do not have to be from the dataset given. "
   ]
  },
  {
   "cell_type": "code",
   "execution_count": null,
   "id": "ac9b236f-f4fa-4c91-ab59-4132880af9e2",
   "metadata": {},
   "outputs": [],
   "source": []
  },
  {
   "cell_type": "markdown",
   "id": "e5cd9669-181e-4ca1-8439-6739ab7af307",
   "metadata": {},
   "source": [
    "## 12)What were the Highest 3 V02 Maxes recorded. Display all 3 names, sport and personal V02 Maxes."
   ]
  },
  {
   "cell_type": "code",
   "execution_count": null,
   "id": "aa7a9ff9-9375-4571-ac0c-61c8ff59d3ef",
   "metadata": {},
   "outputs": [],
   "source": []
  },
  {
   "cell_type": "markdown",
   "id": "e48166c4-86fb-41cd-bd2b-4382288bf965",
   "metadata": {},
   "source": [
    "## 13)Calculate the year of birth of each athlete and store it as a column in the tables."
   ]
  },
  {
   "cell_type": "code",
   "execution_count": null,
   "id": "6f86bbc4-eb2f-4dda-a8b5-83ecc85e5d11",
   "metadata": {},
   "outputs": [],
   "source": []
  },
  {
   "cell_type": "markdown",
   "id": "cbca8a8e-149d-4ee6-a4f9-bce2ad8a7852",
   "metadata": {},
   "source": [
    "## 14)What were the lowest 3 V02 Maxes recorded. Display all 3 names, sport and personal V02 Maxes."
   ]
  },
  {
   "cell_type": "code",
   "execution_count": null,
   "id": "1ac53d92-d215-4b8c-a7b8-5b7032f6b443",
   "metadata": {},
   "outputs": [],
   "source": []
  },
  {
   "cell_type": "markdown",
   "id": "37baccb0-4878-4f1a-925e-0dc2e2367c1e",
   "metadata": {},
   "source": [
    "## 15)\"Assign 1 of the following 5 heart rate zones for every record for all sports and athletes and add this as a column to every table:\n",
    "### Zone 1 (recovery/easy)       <100 HR max\n",
    "### Zone 2 (aerobic/base)        100-120 HR max\n",
    "### Zone 3 (tempo)        120-135 HR max\n",
    "### Zone 4 (lactate threshold)        135-155 HR max\n",
    "### Zone 5 (anaerobic)        155+ HR max and above\""
   ]
  },
  {
   "cell_type": "code",
   "execution_count": null,
   "id": "e7404401-812f-4e4f-a404-55c286140fc8",
   "metadata": {},
   "outputs": [],
   "source": []
  },
  {
   "cell_type": "markdown",
   "id": "53434742-9928-40ad-8448-77e58685776d",
   "metadata": {},
   "source": [
    "## 16)Calculate the BMI of every athlete and display it as a list."
   ]
  },
  {
   "cell_type": "code",
   "execution_count": null,
   "id": "bc617e92-5ff2-48af-903b-a89c73290b4e",
   "metadata": {},
   "outputs": [],
   "source": []
  },
  {
   "cell_type": "markdown",
   "id": "49399508-7673-43d1-9e74-d7dad80acec6",
   "metadata": {},
   "source": [
    "## 17)What is the maximum ventilatory threshold for triathletes."
   ]
  },
  {
   "cell_type": "code",
   "execution_count": null,
   "id": "7becb2e8-7d78-436f-a7a8-68afda44a990",
   "metadata": {},
   "outputs": [],
   "source": []
  },
  {
   "cell_type": "markdown",
   "id": "6629a02e-b81a-4b6f-9420-41f6cd3b3311",
   "metadata": {},
   "source": [
    "## 18)Display the number of athletes in every sport against the name of the sport."
   ]
  },
  {
   "cell_type": "code",
   "execution_count": 11,
   "id": "0d173737-a0f5-4aa2-ac7b-d2ebb1be940f",
   "metadata": {},
   "outputs": [
    {
     "name": "stdout",
     "output_type": "stream",
     "text": [
      "No of athletes in every sport is:  sport\n",
      "fencing      10\n",
      "kayak         6\n",
      "triathlon     2\n",
      "Name: count, dtype: int64\n"
     ]
    }
   ],
   "source": [
    "count_of_athletes=Athletes['sport'].value_counts()\n",
    "print(\"No of athletes in every sport is: \",count_of_athletes)"
   ]
  },
  {
   "cell_type": "markdown",
   "id": "b34e747e-ab36-4e90-a906-f88acb29947c",
   "metadata": {},
   "source": [
    "## 19)Display a bar chart showing the average V02 Max by sport."
   ]
  },
  {
   "cell_type": "code",
   "execution_count": null,
   "id": "1c4ed9b7-f249-4503-99ef-6b159beab2e9",
   "metadata": {},
   "outputs": [],
   "source": []
  },
  {
   "cell_type": "markdown",
   "id": "7f81ea8f-c5b6-4322-8ce8-be9bccdfda29",
   "metadata": {},
   "source": [
    "## 20)Analyze the trend of HR at the start of the test vs the middle and the end.What is the overall trend? "
   ]
  },
  {
   "cell_type": "code",
   "execution_count": null,
   "id": "83c5cbb8-eeaa-463e-89f7-c6f673528f90",
   "metadata": {},
   "outputs": [],
   "source": []
  },
  {
   "cell_type": "markdown",
   "id": "225b8248-ccb3-4f56-92e3-daa6c11c6196",
   "metadata": {},
   "source": [
    "## 21)Display a pie chart of number of athletes by sport."
   ]
  },
  {
   "cell_type": "code",
   "execution_count": 10,
   "id": "910eab67-f88a-4387-846a-f965cd4a149f",
   "metadata": {},
   "outputs": [
    {
     "name": "stdout",
     "output_type": "stream",
     "text": [
      "No of athletes in every sport is:\n",
      " sport\n",
      "fencing      10\n",
      "kayak         6\n",
      "triathlon     2\n",
      "Name: count, dtype: int64\n"
     ]
    },
    {
     "data": {
      "image/png": "[encoded data removed]",
      "text/plain": [
       "<Figure size 500x300 with 1 Axes>"
      ]
     },
     "metadata": {},
     "output_type": "display_data"
    }
   ],
   "source": [
    "# Counting the number of athletes by sport\n",
    "count_of_athletes = Athletes['sport'].value_counts()\n",
    "\n",
    "# Displaying the count\n",
    "print(\"No of athletes in every sport is:\\n\", count_of_athletes)\n",
    "\n",
    "# Plotting the pie chart\n",
    "plt.figure(figsize=(5, 3))\n",
    "plt.pie(count_of_athletes, labels=count_of_athletes.index, autopct='%1.1f%%', startangle=140)\n",
    "plt.title('Number of Athletes by Sport')\n",
    "plt.show()"
   ]
  },
  {
   "cell_type": "markdown",
   "id": "eca63177-3b90-4064-abf1-76093a90abba",
   "metadata": {},
   "source": [
    "## 22)Using any 10 HR values print even if the value is an even number and odd if its an odd number"
   ]
  },
  {
   "cell_type": "code",
   "execution_count": null,
   "id": "e384189b-f1cf-4446-80f8-4051db15834c",
   "metadata": {},
   "outputs": [],
   "source": []
  },
  {
   "cell_type": "markdown",
   "id": "cdb0d616-9e1d-425b-9ed1-2a14742452ec",
   "metadata": {},
   "source": [
    "## 23)Which heart rate zone did most participants spend the longest duration of time in?"
   ]
  },
  {
   "cell_type": "code",
   "execution_count": null,
   "id": "c8befafe-47c4-4b14-afc2-bf209a71b6eb",
   "metadata": {},
   "outputs": [],
   "source": []
  },
  {
   "cell_type": "markdown",
   "id": "b881470b-4581-48e1-a2d2-accbe6c744e5",
   "metadata": {},
   "source": [
    "## 24)Store athlete name and sport in a dictionary as a pair of values."
   ]
  },
  {
   "cell_type": "code",
   "execution_count": null,
   "id": "b4733421-0a66-4222-a3ac-d040fcfbf91b",
   "metadata": {},
   "outputs": [],
   "source": []
  },
  {
   "cell_type": "markdown",
   "id": "86cf7124-5bf6-4b3f-891d-a9cf18600d49",
   "metadata": {},
   "source": [
    "## 25)Using arrays and loops, find the count of athletes based on gender."
   ]
  },
  {
   "cell_type": "code",
   "execution_count": null,
   "id": "8f4a9457-7f35-455c-93dd-22bf0550c57f",
   "metadata": {},
   "outputs": [],
   "source": []
  },
  {
   "cell_type": "markdown",
   "id": "a06af5c1-9248-4a35-b39e-954f65456f51",
   "metadata": {},
   "source": [
    "## 26)Create a sankey diagram to show the groups of race within each sport"
   ]
  },
  {
   "cell_type": "code",
   "execution_count": null,
   "id": "c4846f9d-7884-4e47-88a0-a428dbc01b3c",
   "metadata": {},
   "outputs": [],
   "source": []
  },
  {
   "cell_type": "markdown",
   "id": "599b26b0-10b1-400f-9e41-4e2d205023cc",
   "metadata": {},
   "source": [
    "## 27)Calculate the average heart rate for every minute for every athlete and add it as a column in the same dataframe."
   ]
  },
  {
   "cell_type": "code",
   "execution_count": null,
   "id": "e82f5c64-7487-4273-92cf-83137ce4f573",
   "metadata": {},
   "outputs": [],
   "source": []
  },
  {
   "cell_type": "markdown",
   "id": "d9ba462d-b3f4-4538-a7e7-2b4c0524374b",
   "metadata": {},
   "source": [
    "## 28)Print athlete 15s Age and Pvt1 using the format() function"
   ]
  },
  {
   "cell_type": "code",
   "execution_count": null,
   "id": "b4be176a-aa64-4024-8432-0e09c7cd9916",
   "metadata": {},
   "outputs": [],
   "source": []
  },
  {
   "cell_type": "markdown",
   "id": "055952fc-7114-497c-b38a-314b2a1d0aff",
   "metadata": {},
   "source": [
    "## 29)On average how long was each participants’ warm up?"
   ]
  },
  {
   "cell_type": "code",
   "execution_count": null,
   "id": "54711761-a587-43f7-9c7e-df07a518456e",
   "metadata": {},
   "outputs": [],
   "source": []
  },
  {
   "cell_type": "markdown",
   "id": "ebb7dc5c-9d40-4d94-bb58-d272d01b5399",
   "metadata": {},
   "source": [
    "## 30)Display the HRV of each athlete?"
   ]
  },
  {
   "cell_type": "code",
   "execution_count": null,
   "id": "c593f743-6eea-46fd-8b4e-49c32c956907",
   "metadata": {},
   "outputs": [],
   "source": []
  },
  {
   "cell_type": "markdown",
   "id": "41b61160-df5b-44ba-9f33-f835c918672d",
   "metadata": {},
   "source": [
    "## 31)Return the count of athletes for any sport that the user inputs."
   ]
  },
  {
   "cell_type": "code",
   "execution_count": null,
   "id": "132c0f2e-1ff3-406a-b063-6708808661f4",
   "metadata": {},
   "outputs": [],
   "source": []
  },
  {
   "cell_type": "markdown",
   "id": "9a002280-dbd1-4d20-90a7-cd134d62c602",
   "metadata": {},
   "source": [
    "## 32)Insert the name of every athlete into an array and display the length of that array."
   ]
  },
  {
   "cell_type": "code",
   "execution_count": null,
   "id": "3679a0ea-abd5-4b6c-ac30-d0e080e613ca",
   "metadata": {},
   "outputs": [],
   "source": []
  },
  {
   "cell_type": "markdown",
   "id": "c2442e05-168d-4049-ad01-c2db7040b5d4",
   "metadata": {},
   "source": [
    "## 33)Create a list and a tuple. Print the types and lengths of  both."
   ]
  },
  {
   "cell_type": "code",
   "execution_count": null,
   "id": "8b539edb-a3fd-48eb-aa2b-2afb0ddeb7d3",
   "metadata": {},
   "outputs": [],
   "source": []
  },
  {
   "cell_type": "markdown",
   "id": "0ff16c7c-ed15-4d76-a51e-a153d9bd2d9e",
   "metadata": {},
   "source": [
    "## 34)Display a word cloud using any values in the dataset"
   ]
  },
  {
   "cell_type": "code",
   "execution_count": null,
   "id": "f466bacd-9929-4bd5-a5e2-8f4385d84a2b",
   "metadata": {},
   "outputs": [],
   "source": []
  },
  {
   "cell_type": "markdown",
   "id": "e3e47876-6959-4e01-92e0-f838a4d375e1",
   "metadata": {},
   "source": [
    "## 35)Create a Regression Plot on Max V02 and mean BMI for any sport of your choice"
   ]
  },
  {
   "cell_type": "code",
   "execution_count": null,
   "id": "14bc7c3b-c1cc-4059-b826-71c9c8acc895",
   "metadata": {},
   "outputs": [],
   "source": []
  },
  {
   "cell_type": "markdown",
   "id": "1c99ad29-d450-45ce-a607-4ed39b795a49",
   "metadata": {},
   "source": [
    "## 36)Plot the time series of HR( every 5 mins) of athlete 1"
   ]
  },
  {
   "cell_type": "code",
   "execution_count": null,
   "id": "1ae01ffb-d96a-4e71-80dd-d67d82d48ae8",
   "metadata": {},
   "outputs": [],
   "source": []
  },
  {
   "cell_type": "markdown",
   "id": "426fd75d-5529-4992-bb35-e235db3945e0",
   "metadata": {},
   "source": [
    "## 37)What was the maximum power achieved in terms of watts, which participant achieved it? Display name, sport and watts."
   ]
  },
  {
   "cell_type": "code",
   "execution_count": null,
   "id": "f4b4d932-f0c1-4a36-bf16-ac2055e59bee",
   "metadata": {},
   "outputs": [],
   "source": []
  },
  {
   "cell_type": "markdown",
   "id": "c08f0811-4585-485d-b616-cbe51b8912c0",
   "metadata": {},
   "source": [
    "## 38)What is the average  difference in IBI during the warm up Vs the actual test?"
   ]
  },
  {
   "cell_type": "code",
   "execution_count": null,
   "id": "81c611a9-fa40-4188-8354-7b8a586afffd",
   "metadata": {},
   "outputs": [],
   "source": []
  },
  {
   "cell_type": "markdown",
   "id": "10e9564b-8d34-4c75-9ff7-37eaaba8cf73",
   "metadata": {},
   "source": [
    "## 39)Print out what's in indexes 7, 10, and 3 for the array in Q33."
   ]
  },
  {
   "cell_type": "code",
   "execution_count": null,
   "id": "ab87de4d-1814-46ae-9d4f-4e32bc8455da",
   "metadata": {},
   "outputs": [],
   "source": []
  },
  {
   "cell_type": "markdown",
   "id": "38f11a76-ad3f-4216-a7b0-dc35d4313bfa",
   "metadata": {},
   "source": [
    "## 40)  [ 1,  2,  3,  4,  5],\n",
    "      # [ 6,  7,  8,  9, 10],\n",
    "      # [11, 12, 13, 14, 15],\n",
    "      # [16, 17, 18, 19, 20],\n",
    "      # [21, 22, 23, 24, 25],\n",
    "      # [26, 27, 28, 29, 30]  Use array slicing to display elements 1,3,5. If the value is less than 4 display it as 99\""
   ]
  },
  {
   "cell_type": "code",
   "execution_count": null,
   "id": "4bea97c5-e121-4caf-83f8-7e3a910a87b7",
   "metadata": {},
   "outputs": [],
   "source": []
  },
  {
   "cell_type": "markdown",
   "id": "568ab034-4696-479e-92a6-41171583b615",
   "metadata": {},
   "source": [
    "## 41)What was lowest wattage achieved at the end of a test and by which participant? Display name, sport and watts."
   ]
  },
  {
   "cell_type": "code",
   "execution_count": null,
   "id": "0975b697-98a2-4c7b-898f-7b9ba62b5d59",
   "metadata": {},
   "outputs": [],
   "source": []
  },
  {
   "cell_type": "markdown",
   "id": "04cd4818-4d3e-4e53-85c7-ec4a71ed43e8",
   "metadata": {},
   "source": [
    "## 42)What was the difference in heart rate between warm up and GET for athlete 1"
   ]
  },
  {
   "cell_type": "code",
   "execution_count": null,
   "id": "8079d4ab-02c9-4d3c-b054-fa158bf2d66a",
   "metadata": {},
   "outputs": [],
   "source": []
  },
  {
   "cell_type": "markdown",
   "id": "2faa491b-a73f-4688-b5a6-f08615fa1bb4",
   "metadata": {},
   "source": [
    "## 43)Create a pivot table that shows count of patients within each age group and sport"
   ]
  },
  {
   "cell_type": "code",
   "execution_count": null,
   "id": "244906c8-f3b2-48c0-951e-13ad1308c56f",
   "metadata": {},
   "outputs": [],
   "source": []
  },
  {
   "cell_type": "markdown",
   "id": "dfbd1415-4308-4064-ae5c-6bffd4b50cc5",
   "metadata": {},
   "source": [
    "## 44)Display a  distrubution chart of MAX V02 for all athletes"
   ]
  },
  {
   "cell_type": "code",
   "execution_count": null,
   "id": "fd36b96e-c03a-4f57-b896-13138cf05ef3",
   "metadata": {},
   "outputs": [],
   "source": []
  },
  {
   "cell_type": "markdown",
   "id": "64ac13de-0cae-44dc-ab1d-e6536c82979d",
   "metadata": {},
   "source": [
    "## 45)Create a dummy array with no data with a size of 15."
   ]
  },
  {
   "cell_type": "code",
   "execution_count": null,
   "id": "2ad5ac91-159a-4a9e-b566-5e31a8465c92",
   "metadata": {},
   "outputs": [],
   "source": []
  },
  {
   "cell_type": "markdown",
   "id": "878e4a55-67f5-4e54-8a17-6cb16e90f3f7",
   "metadata": {},
   "source": [
    "## 46)How many minutes did participant 15s exercise last and what was the total V02 max consumed during the test?"
   ]
  },
  {
   "cell_type": "code",
   "execution_count": null,
   "id": "515cf579-e373-4d9c-9190-132c5f5731a9",
   "metadata": {},
   "outputs": [],
   "source": []
  },
  {
   "cell_type": "markdown",
   "id": "b155382a-99d9-4d40-b0b5-c4975084cd2d",
   "metadata": {},
   "source": [
    "## 47)Convert ' sport' into a numeric field through Label encoding"
   ]
  },
  {
   "cell_type": "code",
   "execution_count": null,
   "id": "48a52fe1-6ce6-4ca5-9263-b2c35248c95e",
   "metadata": {},
   "outputs": [],
   "source": []
  },
  {
   "cell_type": "markdown",
   "id": "a213ee7a-e38c-4a99-973b-6b7cf108034e",
   "metadata": {},
   "source": [
    "## 48)What was the average age of the athletes?"
   ]
  },
  {
   "cell_type": "code",
   "execution_count": null,
   "id": "b7714f1a-7177-4923-81c8-be0629ee056b",
   "metadata": {},
   "outputs": [],
   "source": []
  },
  {
   "cell_type": "markdown",
   "id": "1f389d72-427c-4531-8973-114e9a0db250",
   "metadata": {},
   "source": [
    "## 49)Retrieve the row with minimum IBI for fencing athletes using sorting technique."
   ]
  },
  {
   "cell_type": "code",
   "execution_count": null,
   "id": "80280cab-0bfa-4819-9cb8-1e8977f7df8e",
   "metadata": {},
   "outputs": [],
   "source": []
  },
  {
   "cell_type": "markdown",
   "id": "e248e729-a42f-45b6-905a-bde741ae3fb8",
   "metadata": {},
   "source": [
    "## 50)Create a violin chart using any 2 columns in the dataset"
   ]
  },
  {
   "cell_type": "code",
   "execution_count": null,
   "id": "a878f028-b627-472b-ac2f-3278d21819a0",
   "metadata": {},
   "outputs": [],
   "source": []
  },
  {
   "cell_type": "markdown",
   "id": "8337661e-3354-49ee-b3e1-9fe293191172",
   "metadata": {},
   "source": [
    "## 51)List every athlete’s V02 ml/kg"
   ]
  },
  {
   "cell_type": "code",
   "execution_count": null,
   "id": "0284f5b9-487f-4ba5-a8e9-2344ce66880a",
   "metadata": {},
   "outputs": [],
   "source": []
  },
  {
   "cell_type": "markdown",
   "id": "cbb4aa8c-91d3-4857-aeed-fcd6512145f1",
   "metadata": {},
   "source": [
    "## 52)Using all markers of fitness available to you, who is fittest athlete. Write 1-2 lines about the analysis that led to your insight."
   ]
  },
  {
   "cell_type": "code",
   "execution_count": null,
   "id": "83b51fee-1043-4ca4-88f0-6f9b85933dfc",
   "metadata": {},
   "outputs": [],
   "source": []
  },
  {
   "cell_type": "markdown",
   "id": "8965bb4b-3566-45f5-a8a7-280602f772c4",
   "metadata": {},
   "source": [
    "## 53)phonebook={\"john\":938477566,\"Jack\":938377264,\"Jill\":947662781}  ,find the phone number of Jill"
   ]
  },
  {
   "cell_type": "code",
   "execution_count": null,
   "id": "5ba08b20-77f6-42bc-89be-ce003a6e4ccb",
   "metadata": {},
   "outputs": [],
   "source": []
  },
  {
   "cell_type": "markdown",
   "id": "822b7c59-4da4-4ead-b555-bcc83c34eca9",
   "metadata": {},
   "source": [
    "## 54)Create a Pie chart for  Athletes and explode the widge with Highest V02 kg/ml in and Label by Athlete ID"
   ]
  },
  {
   "cell_type": "code",
   "execution_count": null,
   "id": "2901a895-aa26-4484-bac6-bd46b50006a7",
   "metadata": {},
   "outputs": [],
   "source": []
  },
  {
   "cell_type": "markdown",
   "id": "695436b0-027c-4b0f-800d-c18bac989b9b",
   "metadata": {},
   "source": [
    "## 55)Using a for loop iterate through HR for all trathletes and display all details of the athlete with the highest heart rate"
   ]
  },
  {
   "cell_type": "code",
   "execution_count": null,
   "id": "aec2a9d1-e2b2-4168-9d08-1e6a44bbbe4b",
   "metadata": {},
   "outputs": [],
   "source": []
  },
  {
   "cell_type": "markdown",
   "id": "d84c7b10-7674-4a58-8375-d032b25a4edc",
   "metadata": {},
   "source": [
    "## 56)Display a histogram to show distribution of athletes by sport."
   ]
  },
  {
   "cell_type": "code",
   "execution_count": null,
   "id": "8f3d3e05-093e-4e3d-9899-3b00acd2f295",
   "metadata": {},
   "outputs": [],
   "source": []
  },
  {
   "cell_type": "markdown",
   "id": "21d82db5-7a75-4e87-9c9d-85e691450638",
   "metadata": {},
   "source": [
    "## 57)get the first letter of last name of students using for loops and RegEX"
   ]
  },
  {
   "cell_type": "code",
   "execution_count": null,
   "id": "94e3b80f-c925-4254-9e1f-9f16885c29fd",
   "metadata": {},
   "outputs": [],
   "source": []
  },
  {
   "cell_type": "markdown",
   "id": "adfdfcc4-8977-43b0-9714-5a19184f6948",
   "metadata": {},
   "source": [
    "## 58)What is the average % difference in heart rate between warm up and GET for all athletes?"
   ]
  },
  {
   "cell_type": "code",
   "execution_count": null,
   "id": "13ea3030-a6b6-467d-a029-d8eb083e1a1f",
   "metadata": {},
   "outputs": [],
   "source": []
  },
  {
   "cell_type": "markdown",
   "id": "5c954e91-2c97-4eeb-b681-5f6e6566ac47",
   "metadata": {},
   "source": [
    "## 59)Who is the tallest athlete in the dataset. What is his sport and his Vo2 ml/kg?"
   ]
  },
  {
   "cell_type": "code",
   "execution_count": null,
   "id": "3a45cb5a-f036-4284-9f6a-354d7ac07ed1",
   "metadata": {},
   "outputs": [],
   "source": []
  },
  {
   "cell_type": "markdown",
   "id": "a4b8b7fa-8a09-43c6-812b-f280dcab874b",
   "metadata": {},
   "source": [
    "## 60)get the last letter      of athletes last names using RegEX"
   ]
  },
  {
   "cell_type": "code",
   "execution_count": null,
   "id": "5c4240fc-d10a-4223-b031-c9c07af2e2f8",
   "metadata": {},
   "outputs": [],
   "source": []
  },
  {
   "cell_type": "markdown",
   "id": "6990a6ca-300b-4b49-9597-89216aeded8c",
   "metadata": {},
   "source": [
    "## 61)Reverse an arrays order in Python. You can use any array with any values you like."
   ]
  },
  {
   "cell_type": "code",
   "execution_count": null,
   "id": "3f129287-079a-4683-a8db-1f48348d398b",
   "metadata": {},
   "outputs": [],
   "source": []
  },
  {
   "cell_type": "markdown",
   "id": "3cb6d37b-d7f1-4d77-acd9-94d2008f1217",
   "metadata": {},
   "source": [
    "## 62)What is the root mean of successive differences for 30 consecutive minutes for each athlete."
   ]
  },
  {
   "cell_type": "code",
   "execution_count": null,
   "id": "a4d06631-426b-4bf9-a591-bca16e397914",
   "metadata": {},
   "outputs": [],
   "source": []
  },
  {
   "cell_type": "markdown",
   "id": "25b7d136-49a7-49db-b5ae-f2f75bea4d03",
   "metadata": {},
   "source": [
    "## 63)On average how many minutes did each athlete in the sport of fencing spend in Zone 5?"
   ]
  },
  {
   "cell_type": "code",
   "execution_count": null,
   "id": "e9f6cbf9-2151-4529-8be2-388e25e7fba9",
   "metadata": {},
   "outputs": [],
   "source": []
  },
  {
   "cell_type": "markdown",
   "id": "05940908-3258-4fef-b419-31c6eb3b444f",
   "metadata": {},
   "source": [
    "## 64)Count athletes based on Gender using count plot"
   ]
  },
  {
   "cell_type": "code",
   "execution_count": null,
   "id": "606da673-57c2-4602-a64f-00274123315e",
   "metadata": {},
   "outputs": [],
   "source": []
  },
  {
   "cell_type": "markdown",
   "id": "b0efd066-4911-4219-9cdb-42bdf332e423",
   "metadata": {},
   "source": [
    "## 65)\"      [ 1,  2,  3,  4,  5],\n",
    "       [ 6,  7,  8,  9, 10],\n",
    "       [11, 12, 13, 14, 15],\n",
    "       [16, 17, 18, 19, 20],\n",
    "       [21, 22, 23, 24, 25],\n",
    "       [26, 27, 28, 29, 30]  Use array slicing to display elements 4,7,10,17.\""
   ]
  },
  {
   "cell_type": "code",
   "execution_count": null,
   "id": "96c13385-cbda-40f0-9ac6-b0346e9d1688",
   "metadata": {},
   "outputs": [],
   "source": []
  },
  {
   "cell_type": "markdown",
   "id": "8f00c33f-c3cc-4c67-8dba-292e86650568",
   "metadata": {},
   "source": [
    "## 66)On average, how long did each participant spend at 200 watts?"
   ]
  },
  {
   "cell_type": "code",
   "execution_count": null,
   "id": "3be034e2-7f23-4402-984e-2b38fbb53cb2",
   "metadata": {},
   "outputs": [],
   "source": []
  },
  {
   "cell_type": "markdown",
   "id": "547d1808-9708-466f-a7d6-2050479526e9",
   "metadata": {},
   "source": [
    "## 67)Athletes from which sport had the highest average cardiorespiratory fitness in terms of v02 max?"
   ]
  },
  {
   "cell_type": "code",
   "execution_count": null,
   "id": "5e453413-8990-4c68-bc00-0cc76f74d8ba",
   "metadata": {},
   "outputs": [],
   "source": []
  },
  {
   "cell_type": "markdown",
   "id": "7e213f8b-1ce8-4158-88e2-62058eb8e8bb",
   "metadata": {},
   "source": [
    "## 68)What % of athletes exceeded 90% of max HR? (Max HR is calculated as 220-Age)"
   ]
  },
  {
   "cell_type": "code",
   "execution_count": null,
   "id": "62cf6af0-0ceb-43e0-ab8a-b969cd2b0bde",
   "metadata": {},
   "outputs": [],
   "source": []
  },
  {
   "cell_type": "markdown",
   "id": "e6ac1785-2891-40fb-b559-4248e2da807c",
   "metadata": {},
   "source": [
    "## 69)What was the lowest heart rate recorded at a power wattage of 200"
   ]
  },
  {
   "cell_type": "code",
   "execution_count": null,
   "id": "1cacdfad-6cad-4c29-bb02-161ae0d8e8f1",
   "metadata": {},
   "outputs": [],
   "source": []
  },
  {
   "cell_type": "markdown",
   "id": "fc6db042-b825-406c-ae31-2410739a8176",
   "metadata": {},
   "source": [
    "## 70)On Average how long did most athletes spend at 75% of MaxHR (Max HR is calculated as 220-Age)"
   ]
  },
  {
   "cell_type": "code",
   "execution_count": null,
   "id": "35fd4e70-d9bf-4da2-8930-b09bec1259e1",
   "metadata": {},
   "outputs": [],
   "source": []
  },
  {
   "cell_type": "markdown",
   "id": "7744fcd3-9182-42d3-a565-1cf8ae15754b",
   "metadata": {},
   "source": [
    "## 71)Create a crosstab to show each sport as a column and each heart rate zone as rows with counts of rows that satisfy each condition as values"
   ]
  },
  {
   "cell_type": "code",
   "execution_count": null,
   "id": "259ffebb-c303-4f29-8fb1-546186c682a5",
   "metadata": {},
   "outputs": [],
   "source": []
  },
  {
   "cell_type": "markdown",
   "id": "e47f179a-b358-4940-8577-e77ec08ef2fa",
   "metadata": {},
   "source": [
    "## 72)Provide an example of a lambda function that multiplies any 2 input values."
   ]
  },
  {
   "cell_type": "code",
   "execution_count": null,
   "id": "f630ba6b-5546-457d-9766-9198ef9fe8d5",
   "metadata": {},
   "outputs": [],
   "source": []
  },
  {
   "cell_type": "markdown",
   "id": "c0fb2385-68f1-4760-a5b5-873c6fee5b08",
   "metadata": {},
   "source": [
    "## 73)How long was athlete 17s warm up"
   ]
  },
  {
   "cell_type": "code",
   "execution_count": null,
   "id": "4431cc57-9a76-4d33-a8f0-9c17a5576a18",
   "metadata": {},
   "outputs": [],
   "source": []
  },
  {
   "cell_type": "markdown",
   "id": "238fbb9a-4474-43e5-a3cf-f0c8a8e6f407",
   "metadata": {},
   "source": [
    "## 74)Take a students full name and reverse it using a for loop"
   ]
  },
  {
   "cell_type": "code",
   "execution_count": null,
   "id": "25bd249f-fa05-4d29-926e-a91473d7cd15",
   "metadata": {},
   "outputs": [],
   "source": []
  },
  {
   "cell_type": "markdown",
   "id": "6e534ac2-0b9d-44fa-851a-5405ab6682b0",
   "metadata": {},
   "source": [
    "## 75)What was the maximum heart rate recorded during the test. Which athlete did it belong to? Display name, sport and HR"
   ]
  },
  {
   "cell_type": "code",
   "execution_count": null,
   "id": "99187e90-bf9e-4083-bc77-b555c360c29e",
   "metadata": {},
   "outputs": [],
   "source": []
  },
  {
   "cell_type": "markdown",
   "id": "4610bf83-7aea-4a19-a2c3-3baec095f2db",
   "metadata": {},
   "source": [
    "## 76)np.arange(1,31).reshape(6,5),find array slicing to get the elements 2,5,13,25,30."
   ]
  },
  {
   "cell_type": "code",
   "execution_count": null,
   "id": "b63f2c83-c325-4965-b157-c6b89730d2c3",
   "metadata": {},
   "outputs": [],
   "source": []
  },
  {
   "cell_type": "markdown",
   "id": "ed0cc2a1-bf41-41d6-b6c4-621e64621e28",
   "metadata": {},
   "source": [
    "## 77)Display a violin chart to show distribution of VO2Max against age."
   ]
  },
  {
   "cell_type": "code",
   "execution_count": null,
   "id": "b584d0cf-0994-44c5-b473-a97bbbf967f7",
   "metadata": {},
   "outputs": [],
   "source": []
  },
  {
   "cell_type": "markdown",
   "id": "e2fa231f-8a84-4ed3-81b2-f6d4ba7a5e82",
   "metadata": {},
   "source": [
    "## 78)Create a heatmap that show heart rate zones by minutes and the number of athletes in each HR and each minute."
   ]
  },
  {
   "cell_type": "code",
   "execution_count": null,
   "id": "51763e71-5fdd-47d4-8575-0e3a4843b988",
   "metadata": {},
   "outputs": [],
   "source": []
  },
  {
   "cell_type": "markdown",
   "id": "f6fa9aad-fa96-4ba0-9186-46adf058f8b1",
   "metadata": {},
   "source": [
    "## 79)Plot the Donut chart athlete distrubution by Gender"
   ]
  },
  {
   "cell_type": "code",
   "execution_count": null,
   "id": "c36e1e4e-8576-4b1c-a4b5-c54a4d78809f",
   "metadata": {},
   "outputs": [],
   "source": []
  },
  {
   "cell_type": "markdown",
   "id": "9151f282-86f3-4887-8add-b38028ca595a",
   "metadata": {},
   "source": [
    "## 80)find the size of a Tuple for any given input "
   ]
  },
  {
   "cell_type": "code",
   "execution_count": null,
   "id": "d7d6fe4e-c05d-4d61-84e3-902b91f11394",
   "metadata": {},
   "outputs": [],
   "source": []
  }
 ],
 "metadata": {
  "kernelspec": {
   "display_name": "Python 3 (ipykernel)",
   "language": "python",
   "name": "python3"
  },
  "language_info": {
   "codemirror_mode": {
    "name": "ipython",
    "version": 3
   },
   "file_extension": ".py",
   "mimetype": "text/x-python",
   "name": "python",
   "nbconvert_exporter": "python",
   "pygments_lexer": "ipython3",
   "version": "3.11.7"
  }
 },
 "nbformat": 4,
 "nbformat_minor": 5
}
