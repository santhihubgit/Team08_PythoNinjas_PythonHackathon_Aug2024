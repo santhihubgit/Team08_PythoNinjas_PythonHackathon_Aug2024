{
 "cells": [
  {
   "cell_type": "code",
   "execution_count": 1,
   "id": "b4a8a3c7",
   "metadata": {},
   "outputs": [
    {
     "name": "stdout",
     "output_type": "stream",
     "text": [
      "Requirement already satisfied: pandas in /opt/anaconda3/lib/python3.9/site-packages (1.3.4)\r\n",
      "Requirement already satisfied: python-dateutil>=2.7.3 in /opt/anaconda3/lib/python3.9/site-packages (from pandas) (2.8.2)\r\n",
      "Requirement already satisfied: pytz>=2017.3 in /opt/anaconda3/lib/python3.9/site-packages (from pandas) (2021.3)\r\n",
      "Requirement already satisfied: numpy>=1.17.3 in /opt/anaconda3/lib/python3.9/site-packages (from pandas) (1.20.3)\r\n",
      "Requirement already satisfied: six>=1.5 in /opt/anaconda3/lib/python3.9/site-packages (from python-dateutil>=2.7.3->pandas) (1.15.0)\r\n"
     ]
    }
   ],
   "source": [
    "!pip install pandas"
   ]
  },
  {
   "cell_type": "code",
   "execution_count": 111,
   "id": "b084bc25",
   "metadata": {},
   "outputs": [],
   "source": [
    "import pandas as pd\n",
    "import numpy as np\n",
    "import seaborn as sns\n",
    "import matplotlib.pyplot as plt\n",
    "import warnings\n",
    "warnings.simplefilter(action=\"ignore\",category=UserWarning)"
   ]
  },
  {
   "cell_type": "code",
   "execution_count": 38,
   "id": "0af51f2a",
   "metadata": {},
   "outputs": [],
   "source": [
    "# Reading data into dataframes\n",
    "Kayaking=pd.read_excel(r\"/Users/rajnishkhatri/Downloads/V02Max_Combined.xlsx\",sheet_name=0)\n",
    "Athletes=pd.read_excel(r\"/Users/rajnishkhatri/Downloads/V02Max_Combined.xlsx\",sheet_name=1)\n",
    "Triathlon=pd.read_excel(r\"/Users/rajnishkhatri/Downloads/V02Max_Combined.xlsx\",sheet_name=2)\n",
    "Fencing=pd.read_excel(r\"/Users/rajnishkhatri/Downloads/V02Max_Combined.xlsx\",sheet_name=3)"
   ]
  },
  {
   "cell_type": "code",
   "execution_count": 8,
   "id": "1801b2f3",
   "metadata": {},
   "outputs": [
    {
     "data": {
      "text/html": [
       "<div>\n",
       "<style scoped>\n",
       "    .dataframe tbody tr th:only-of-type {\n",
       "        vertical-align: middle;\n",
       "    }\n",
       "\n",
       "    .dataframe tbody tr th {\n",
       "        vertical-align: top;\n",
       "    }\n",
       "\n",
       "    .dataframe thead th {\n",
       "        text-align: right;\n",
       "    }\n",
       "</style>\n",
       "<table border=\"1\" class=\"dataframe\">\n",
       "  <thead>\n",
       "    <tr style=\"text-align: right;\">\n",
       "      <th></th>\n",
       "      <th>ID</th>\n",
       "      <th>time</th>\n",
       "      <th>RR</th>\n",
       "      <th>VO2</th>\n",
       "      <th>power</th>\n",
       "    </tr>\n",
       "  </thead>\n",
       "  <tbody>\n",
       "    <tr>\n",
       "      <th>0</th>\n",
       "      <td>11.0</td>\n",
       "      <td>-168.600</td>\n",
       "      <td>727.0</td>\n",
       "      <td>0.287147</td>\n",
       "      <td>0.0</td>\n",
       "    </tr>\n",
       "    <tr>\n",
       "      <th>1</th>\n",
       "      <td>11.0</td>\n",
       "      <td>-167.872</td>\n",
       "      <td>728.0</td>\n",
       "      <td>0.287147</td>\n",
       "      <td>0.0</td>\n",
       "    </tr>\n",
       "    <tr>\n",
       "      <th>2</th>\n",
       "      <td>11.0</td>\n",
       "      <td>-167.148</td>\n",
       "      <td>724.0</td>\n",
       "      <td>0.287147</td>\n",
       "      <td>0.0</td>\n",
       "    </tr>\n",
       "    <tr>\n",
       "      <th>3</th>\n",
       "      <td>11.0</td>\n",
       "      <td>-166.484</td>\n",
       "      <td>664.0</td>\n",
       "      <td>0.320580</td>\n",
       "      <td>0.0</td>\n",
       "    </tr>\n",
       "    <tr>\n",
       "      <th>4</th>\n",
       "      <td>11.0</td>\n",
       "      <td>-165.836</td>\n",
       "      <td>648.0</td>\n",
       "      <td>0.320580</td>\n",
       "      <td>0.0</td>\n",
       "    </tr>\n",
       "    <tr>\n",
       "      <th>...</th>\n",
       "      <td>...</td>\n",
       "      <td>...</td>\n",
       "      <td>...</td>\n",
       "      <td>...</td>\n",
       "      <td>...</td>\n",
       "    </tr>\n",
       "    <tr>\n",
       "      <th>19473</th>\n",
       "      <td>16.0</td>\n",
       "      <td>1118.404</td>\n",
       "      <td>548.0</td>\n",
       "      <td>0.671957</td>\n",
       "      <td>0.0</td>\n",
       "    </tr>\n",
       "    <tr>\n",
       "      <th>19474</th>\n",
       "      <td>16.0</td>\n",
       "      <td>1118.944</td>\n",
       "      <td>540.0</td>\n",
       "      <td>0.671957</td>\n",
       "      <td>0.0</td>\n",
       "    </tr>\n",
       "    <tr>\n",
       "      <th>19475</th>\n",
       "      <td>16.0</td>\n",
       "      <td>1119.484</td>\n",
       "      <td>540.0</td>\n",
       "      <td>0.671957</td>\n",
       "      <td>0.0</td>\n",
       "    </tr>\n",
       "    <tr>\n",
       "      <th>19476</th>\n",
       "      <td>16.0</td>\n",
       "      <td>1120.016</td>\n",
       "      <td>532.0</td>\n",
       "      <td>0.671957</td>\n",
       "      <td>0.0</td>\n",
       "    </tr>\n",
       "    <tr>\n",
       "      <th>19477</th>\n",
       "      <td>16.0</td>\n",
       "      <td>1120.544</td>\n",
       "      <td>528.0</td>\n",
       "      <td>0.671957</td>\n",
       "      <td>0.0</td>\n",
       "    </tr>\n",
       "  </tbody>\n",
       "</table>\n",
       "<p>19478 rows × 5 columns</p>\n",
       "</div>"
      ],
      "text/plain": [
       "         ID      time     RR       VO2  power\n",
       "0      11.0  -168.600  727.0  0.287147    0.0\n",
       "1      11.0  -167.872  728.0  0.287147    0.0\n",
       "2      11.0  -167.148  724.0  0.287147    0.0\n",
       "3      11.0  -166.484  664.0  0.320580    0.0\n",
       "4      11.0  -165.836  648.0  0.320580    0.0\n",
       "...     ...       ...    ...       ...    ...\n",
       "19473  16.0  1118.404  548.0  0.671957    0.0\n",
       "19474  16.0  1118.944  540.0  0.671957    0.0\n",
       "19475  16.0  1119.484  540.0  0.671957    0.0\n",
       "19476  16.0  1120.016  532.0  0.671957    0.0\n",
       "19477  16.0  1120.544  528.0  0.671957    0.0\n",
       "\n",
       "[19478 rows x 5 columns]"
      ]
     },
     "execution_count": 8,
     "metadata": {},
     "output_type": "execute_result"
    }
   ],
   "source": [
    "Kayaking"
   ]
  },
  {
   "cell_type": "code",
   "execution_count": 9,
   "id": "efc7a752",
   "metadata": {},
   "outputs": [
    {
     "data": {
      "text/html": [
       "<div>\n",
       "<style scoped>\n",
       "    .dataframe tbody tr th:only-of-type {\n",
       "        vertical-align: middle;\n",
       "    }\n",
       "\n",
       "    .dataframe tbody tr th {\n",
       "        vertical-align: top;\n",
       "    }\n",
       "\n",
       "    .dataframe thead th {\n",
       "        text-align: right;\n",
       "    }\n",
       "</style>\n",
       "<table border=\"1\" class=\"dataframe\">\n",
       "  <thead>\n",
       "    <tr style=\"text-align: right;\">\n",
       "      <th></th>\n",
       "      <th>ID</th>\n",
       "      <th>time</th>\n",
       "      <th>RR</th>\n",
       "      <th>VO2</th>\n",
       "      <th>power</th>\n",
       "    </tr>\n",
       "  </thead>\n",
       "  <tbody>\n",
       "    <tr>\n",
       "      <th>0</th>\n",
       "      <td>11.0</td>\n",
       "      <td>-168.600</td>\n",
       "      <td>727.0</td>\n",
       "      <td>0.287147</td>\n",
       "      <td>0.0</td>\n",
       "    </tr>\n",
       "    <tr>\n",
       "      <th>1</th>\n",
       "      <td>11.0</td>\n",
       "      <td>-167.872</td>\n",
       "      <td>728.0</td>\n",
       "      <td>0.287147</td>\n",
       "      <td>0.0</td>\n",
       "    </tr>\n",
       "    <tr>\n",
       "      <th>2</th>\n",
       "      <td>11.0</td>\n",
       "      <td>-167.148</td>\n",
       "      <td>724.0</td>\n",
       "      <td>0.287147</td>\n",
       "      <td>0.0</td>\n",
       "    </tr>\n",
       "    <tr>\n",
       "      <th>3</th>\n",
       "      <td>11.0</td>\n",
       "      <td>-166.484</td>\n",
       "      <td>664.0</td>\n",
       "      <td>0.320580</td>\n",
       "      <td>0.0</td>\n",
       "    </tr>\n",
       "    <tr>\n",
       "      <th>4</th>\n",
       "      <td>11.0</td>\n",
       "      <td>-165.836</td>\n",
       "      <td>648.0</td>\n",
       "      <td>0.320580</td>\n",
       "      <td>0.0</td>\n",
       "    </tr>\n",
       "  </tbody>\n",
       "</table>\n",
       "</div>"
      ],
      "text/plain": [
       "     ID     time     RR       VO2  power\n",
       "0  11.0 -168.600  727.0  0.287147    0.0\n",
       "1  11.0 -167.872  728.0  0.287147    0.0\n",
       "2  11.0 -167.148  724.0  0.287147    0.0\n",
       "3  11.0 -166.484  664.0  0.320580    0.0\n",
       "4  11.0 -165.836  648.0  0.320580    0.0"
      ]
     },
     "execution_count": 9,
     "metadata": {},
     "output_type": "execute_result"
    }
   ],
   "source": [
    "Kayaking.head()"
   ]
  },
  {
   "cell_type": "code",
   "execution_count": 10,
   "id": "71c1150a",
   "metadata": {},
   "outputs": [
    {
     "data": {
      "text/html": [
       "<div>\n",
       "<style scoped>\n",
       "    .dataframe tbody tr th:only-of-type {\n",
       "        vertical-align: middle;\n",
       "    }\n",
       "\n",
       "    .dataframe tbody tr th {\n",
       "        vertical-align: top;\n",
       "    }\n",
       "\n",
       "    .dataframe thead th {\n",
       "        text-align: right;\n",
       "    }\n",
       "</style>\n",
       "<table border=\"1\" class=\"dataframe\">\n",
       "  <thead>\n",
       "    <tr style=\"text-align: right;\">\n",
       "      <th></th>\n",
       "      <th>ID</th>\n",
       "      <th>time</th>\n",
       "      <th>RR</th>\n",
       "      <th>VO2</th>\n",
       "      <th>power</th>\n",
       "    </tr>\n",
       "  </thead>\n",
       "  <tbody>\n",
       "    <tr>\n",
       "      <th>19473</th>\n",
       "      <td>16.0</td>\n",
       "      <td>1118.404</td>\n",
       "      <td>548.0</td>\n",
       "      <td>0.671957</td>\n",
       "      <td>0.0</td>\n",
       "    </tr>\n",
       "    <tr>\n",
       "      <th>19474</th>\n",
       "      <td>16.0</td>\n",
       "      <td>1118.944</td>\n",
       "      <td>540.0</td>\n",
       "      <td>0.671957</td>\n",
       "      <td>0.0</td>\n",
       "    </tr>\n",
       "    <tr>\n",
       "      <th>19475</th>\n",
       "      <td>16.0</td>\n",
       "      <td>1119.484</td>\n",
       "      <td>540.0</td>\n",
       "      <td>0.671957</td>\n",
       "      <td>0.0</td>\n",
       "    </tr>\n",
       "    <tr>\n",
       "      <th>19476</th>\n",
       "      <td>16.0</td>\n",
       "      <td>1120.016</td>\n",
       "      <td>532.0</td>\n",
       "      <td>0.671957</td>\n",
       "      <td>0.0</td>\n",
       "    </tr>\n",
       "    <tr>\n",
       "      <th>19477</th>\n",
       "      <td>16.0</td>\n",
       "      <td>1120.544</td>\n",
       "      <td>528.0</td>\n",
       "      <td>0.671957</td>\n",
       "      <td>0.0</td>\n",
       "    </tr>\n",
       "  </tbody>\n",
       "</table>\n",
       "</div>"
      ],
      "text/plain": [
       "         ID      time     RR       VO2  power\n",
       "19473  16.0  1118.404  548.0  0.671957    0.0\n",
       "19474  16.0  1118.944  540.0  0.671957    0.0\n",
       "19475  16.0  1119.484  540.0  0.671957    0.0\n",
       "19476  16.0  1120.016  532.0  0.671957    0.0\n",
       "19477  16.0  1120.544  528.0  0.671957    0.0"
      ]
     },
     "execution_count": 10,
     "metadata": {},
     "output_type": "execute_result"
    }
   ],
   "source": [
    "Kayaking.tail()"
   ]
  },
  {
   "cell_type": "code",
   "execution_count": 11,
   "id": "1004ea12",
   "metadata": {},
   "outputs": [
    {
     "name": "stdout",
     "output_type": "stream",
     "text": [
      "Merged Dataframe saved to excel successfully\n"
     ]
    }
   ],
   "source": [
    "# Normalizing the column names to lowercase\n",
    "Kayaking.columns = Kayaking.columns.str.lower()\n",
    "Athletes.columns = Athletes.columns.str.lower()\n",
    "Triathlon.columns = Triathlon.columns.str.lower()\n",
    "Fencing.columns = Fencing.columns.str.lower()\n",
    "\n",
    "# Columns list that we wants to keep\n",
    "columns_kept = ['time', 'rr', 'power', 'vo2']\n",
    "\n",
    "# Add missing columns with NaN values if they don't exist\n",
    "def missing_columns(df, columns):\n",
    "    for col in columns:\n",
    "        if col not in df.columns:\n",
    "            # Adding missing columns with NaN values\n",
    "            df[col] = np.nan  \n",
    "\n",
    "missing_columns(Kayaking, columns_kept)\n",
    "missing_columns(Athletes, columns_kept)\n",
    "missing_columns(Triathlon, columns_kept)\n",
    "missing_columns(Fencing, columns_kept)\n",
    "\n",
    "# Merge dataframes with suffixes which will differentiate the columns with same names in different dataframes\n",
    "Merged_df = Kayaking[['id'] + columns_kept].merge(\n",
    "    Athletes[['id'] + columns_kept], on='id', how='outer', suffixes=('_Kayaking', '_Athletes')\n",
    ").merge(\n",
    "    Triathlon[['id'] + columns_kept], on='id', how='outer', suffixes=('_Athletes', '_Triathlon')\n",
    ").merge(\n",
    "    Fencing[['id'] + columns_kept], on='id', how='outer', suffixes=('_Triathlon', '_Fencing')\n",
    ")\n",
    "\n",
    "# Combine columns and remove duplicates \n",
    "for col in columns_kept:\n",
    "    cols_to_merge = [col + '_Kayaking', col + '_Athletes', col + '_Triathlon', col + '_Fencing']\n",
    "    available_cols = [cl for cl in cols_to_merge if cl in Merged_df.columns]\n",
    "    \n",
    "    if available_cols:\n",
    "        Merged_df[col] = Merged_df[available_cols].bfill(axis=1).iloc[:, 0]\n",
    "    Merged_df.drop(columns=available_cols, inplace=True)\n",
    "\n",
    "# Write the final dataframe to an Excel file\n",
    "Merged_df.to_excel(\"/Users/rajnishkhatri/Downloads/MergedV02.xlsx\", index=False)#I can see merged columns here\n",
    "\n",
    "print(\"Merged Dataframe saved to excel successfully\")"
   ]
  },
  {
   "cell_type": "code",
   "execution_count": 12,
   "id": "18956a1f",
   "metadata": {},
   "outputs": [
    {
     "name": "stdout",
     "output_type": "stream",
     "text": [
      "         id     time     rr  power       vo2     status\n",
      "0      11.0 -168.600  727.0    0.0  0.287147    Warm up\n",
      "1      11.0 -167.872  728.0    0.0  0.287147    Warm up\n",
      "2      11.0 -167.148  724.0    0.0  0.287147    Warm up\n",
      "3      11.0 -166.484  664.0    0.0  0.320580    Warm up\n",
      "4      11.0 -165.836  648.0    0.0  0.320580    Warm up\n",
      "...     ...      ...    ...    ...       ...        ...\n",
      "52057  18.0  947.288  536.0    0.0  0.507071  Cool down\n",
      "52058  18.0  947.816  528.0    0.0  0.507071  Cool down\n",
      "52059  18.0  948.344  528.0    0.0  0.507071  Cool down\n",
      "52060  18.0  948.884  540.0    0.0  0.507071  Cool down\n",
      "52061  18.0  949.424  540.0    0.0  0.507071  Cool down\n",
      "\n",
      "[52062 rows x 6 columns]\n",
      "Labeled dataframe saved to excel successfully\n"
     ]
    }
   ],
   "source": [
    "#2nd question\n",
    "# I took 'merged_df' as our dataframe\n",
    "\n",
    "# Label Warm up which has all negative time values\n",
    "Merged_df.loc[Merged_df['time'] < 0, 'status'] = 'Warm up'\n",
    "\n",
    "# Label GET which has time >= 0 and power > 0\n",
    "Merged_df.loc[(Merged_df['time'] >= 0) & (Merged_df['power'] > 0), 'status'] = 'GET'\n",
    "\n",
    "# By assuming cool down starts immediately after GET stage ends:\n",
    "# It will be all rows where power drops to zero or very low value\n",
    "Merged_df.loc[(Merged_df['time'] >= 0) & (Merged_df['power'] == 0), 'status'] = 'Cool down'\n",
    "\n",
    "print(Merged_df[['id','time','rr','power','vo2','status']])\n",
    "\n",
    "# Save the final labeled dataframe to an Excel file\n",
    "Merged_df.to_excel(\"V02Max_Labeled.xlsx\", index=False)\n",
    "\n",
    "print(\"Labeled dataframe saved to excel successfully\")\n"
   ]
  },
  {
   "cell_type": "code",
   "execution_count": 105,
   "id": "39247877",
   "metadata": {},
   "outputs": [
    {
     "name": "stdout",
     "output_type": "stream",
     "text": [
      "Merged Dataframe saved to excel successfully\n"
     ]
    }
   ],
   "source": [
    "#1).Join all sport-related tables to produce one dataframe that has all athletes values\n",
    "    #The final table should only have the same 5 columns: ID, time,power,RR, vo2, power. Write this dataframe to an excel file\n",
    "\n",
    "# Merging all three sports\n",
    "df = [Kayaking,Triathlon,Fencing]\n",
    "Merged_df = pd.merge(Kayaking,Triathlon,how ='outer').merge(Fencing,how ='outer')\n",
    "# df_sporst = pd.concate([Kayaking,Triathlon,Fencing])\n",
    "\n",
    "# Write the final dataframe to an Excel file\n",
    "Merged_df.to_excel(\"/Users/rajnishkhatri/Downloads/MergedV02.xlsx\", index=False)\n",
    "\n",
    "print(\"Merged Dataframe saved to excel successfully\")"
   ]
  },
  {
   "cell_type": "code",
   "execution_count": 106,
   "id": "4b0a9a06",
   "metadata": {},
   "outputs": [
    {
     "data": {
      "text/html": [
       "<div>\n",
       "<style scoped>\n",
       "    .dataframe tbody tr th:only-of-type {\n",
       "        vertical-align: middle;\n",
       "    }\n",
       "\n",
       "    .dataframe tbody tr th {\n",
       "        vertical-align: top;\n",
       "    }\n",
       "\n",
       "    .dataframe thead th {\n",
       "        text-align: right;\n",
       "    }\n",
       "</style>\n",
       "<table border=\"1\" class=\"dataframe\">\n",
       "  <thead>\n",
       "    <tr style=\"text-align: right;\">\n",
       "      <th></th>\n",
       "      <th>ID</th>\n",
       "      <th>time</th>\n",
       "      <th>RR</th>\n",
       "      <th>VO2</th>\n",
       "      <th>power</th>\n",
       "      <th>RR_Diff</th>\n",
       "    </tr>\n",
       "  </thead>\n",
       "  <tbody>\n",
       "    <tr>\n",
       "      <th>0</th>\n",
       "      <td>11.0</td>\n",
       "      <td>-168.600</td>\n",
       "      <td>727.0</td>\n",
       "      <td>0.287147</td>\n",
       "      <td>0.0</td>\n",
       "      <td>NaN</td>\n",
       "    </tr>\n",
       "    <tr>\n",
       "      <th>1</th>\n",
       "      <td>11.0</td>\n",
       "      <td>-167.872</td>\n",
       "      <td>728.0</td>\n",
       "      <td>0.287147</td>\n",
       "      <td>0.0</td>\n",
       "      <td>NaN</td>\n",
       "    </tr>\n",
       "    <tr>\n",
       "      <th>2</th>\n",
       "      <td>11.0</td>\n",
       "      <td>-167.148</td>\n",
       "      <td>724.0</td>\n",
       "      <td>0.287147</td>\n",
       "      <td>0.0</td>\n",
       "      <td>NaN</td>\n",
       "    </tr>\n",
       "    <tr>\n",
       "      <th>3</th>\n",
       "      <td>11.0</td>\n",
       "      <td>-166.484</td>\n",
       "      <td>664.0</td>\n",
       "      <td>0.320580</td>\n",
       "      <td>0.0</td>\n",
       "      <td>NaN</td>\n",
       "    </tr>\n",
       "    <tr>\n",
       "      <th>4</th>\n",
       "      <td>11.0</td>\n",
       "      <td>-165.836</td>\n",
       "      <td>648.0</td>\n",
       "      <td>0.320580</td>\n",
       "      <td>0.0</td>\n",
       "      <td>NaN</td>\n",
       "    </tr>\n",
       "    <tr>\n",
       "      <th>...</th>\n",
       "      <td>...</td>\n",
       "      <td>...</td>\n",
       "      <td>...</td>\n",
       "      <td>...</td>\n",
       "      <td>...</td>\n",
       "      <td>...</td>\n",
       "    </tr>\n",
       "    <tr>\n",
       "      <th>52057</th>\n",
       "      <td>10.0</td>\n",
       "      <td>942.700</td>\n",
       "      <td>428.0</td>\n",
       "      <td>0.786363</td>\n",
       "      <td>0.0</td>\n",
       "      <td>NaN</td>\n",
       "    </tr>\n",
       "    <tr>\n",
       "      <th>52058</th>\n",
       "      <td>10.0</td>\n",
       "      <td>943.124</td>\n",
       "      <td>424.0</td>\n",
       "      <td>0.786363</td>\n",
       "      <td>0.0</td>\n",
       "      <td>NaN</td>\n",
       "    </tr>\n",
       "    <tr>\n",
       "      <th>52059</th>\n",
       "      <td>10.0</td>\n",
       "      <td>943.552</td>\n",
       "      <td>428.0</td>\n",
       "      <td>0.786363</td>\n",
       "      <td>0.0</td>\n",
       "      <td>NaN</td>\n",
       "    </tr>\n",
       "    <tr>\n",
       "      <th>52060</th>\n",
       "      <td>10.0</td>\n",
       "      <td>943.976</td>\n",
       "      <td>424.0</td>\n",
       "      <td>0.786363</td>\n",
       "      <td>0.0</td>\n",
       "      <td>NaN</td>\n",
       "    </tr>\n",
       "    <tr>\n",
       "      <th>52061</th>\n",
       "      <td>10.0</td>\n",
       "      <td>944.404</td>\n",
       "      <td>428.0</td>\n",
       "      <td>0.786363</td>\n",
       "      <td>0.0</td>\n",
       "      <td>NaN</td>\n",
       "    </tr>\n",
       "  </tbody>\n",
       "</table>\n",
       "<p>52062 rows × 6 columns</p>\n",
       "</div>"
      ],
      "text/plain": [
       "         ID     time     RR       VO2  power  RR_Diff\n",
       "0      11.0 -168.600  727.0  0.287147    0.0      NaN\n",
       "1      11.0 -167.872  728.0  0.287147    0.0      NaN\n",
       "2      11.0 -167.148  724.0  0.287147    0.0      NaN\n",
       "3      11.0 -166.484  664.0  0.320580    0.0      NaN\n",
       "4      11.0 -165.836  648.0  0.320580    0.0      NaN\n",
       "...     ...      ...    ...       ...    ...      ...\n",
       "52057  10.0  942.700  428.0  0.786363    0.0      NaN\n",
       "52058  10.0  943.124  424.0  0.786363    0.0      NaN\n",
       "52059  10.0  943.552  428.0  0.786363    0.0      NaN\n",
       "52060  10.0  943.976  424.0  0.786363    0.0      NaN\n",
       "52061  10.0  944.404  428.0  0.786363    0.0      NaN\n",
       "\n",
       "[52062 rows x 6 columns]"
      ]
     },
     "execution_count": 106,
     "metadata": {},
     "output_type": "execute_result"
    }
   ],
   "source": [
    "Merged_df\n"
   ]
  },
  {
   "cell_type": "code",
   "execution_count": 40,
   "id": "032aa428",
   "metadata": {},
   "outputs": [
    {
     "name": "stdout",
     "output_type": "stream",
     "text": [
      "         ID     time     RR  power       VO2     status\n",
      "0      11.0 -168.600  727.0    0.0  0.287147    Warm up\n",
      "1      11.0 -167.872  728.0    0.0  0.287147    Warm up\n",
      "2      11.0 -167.148  724.0    0.0  0.287147    Warm up\n",
      "3      11.0 -166.484  664.0    0.0  0.320580    Warm up\n",
      "4      11.0 -165.836  648.0    0.0  0.320580    Warm up\n",
      "...     ...      ...    ...    ...       ...        ...\n",
      "52057  10.0  942.700  428.0    0.0  0.786363  Cool down\n",
      "52058  10.0  943.124  424.0    0.0  0.786363  Cool down\n",
      "52059  10.0  943.552  428.0    0.0  0.786363  Cool down\n",
      "52060  10.0  943.976  424.0    0.0  0.786363  Cool down\n",
      "52061  10.0  944.404  428.0    0.0  0.786363  Cool down\n",
      "\n",
      "[52062 rows x 6 columns]\n",
      "Labeled dataframe saved to excel successfully\n"
     ]
    }
   ],
   "source": [
    "#2).Divide the rows into 3 parts: Warm up, GET and cool down using the data def. Label each row accordingly\n",
    "\n",
    "# Label Warm up which has all negative time values\n",
    "Merged_df.loc[Merged_df['time'] < 0, 'status'] = 'Warm up'\n",
    "\n",
    "# Label GET which has time >= 0 and power > 0\n",
    "Merged_df.loc[(Merged_df['time'] >= 0) & (Merged_df['power'] > 0), 'status'] = 'GET'\n",
    "\n",
    "# By assuming cool down starts immediately after GET stage ends:\n",
    "# It will be all rows where power drops to zero or very low value\n",
    "Merged_df.loc[(Merged_df['time'] >= 0) & (Merged_df['power'] == 0), 'status'] = 'Cool down'\n",
    "\n",
    "print(Merged_df[['ID','time','RR','power','VO2','status']])\n",
    "\n",
    "# Save the final labeled dataframe to an Excel file\n",
    "Merged_df.to_excel(\"V02Max_Labeled.xlsx\", index=False)\n",
    "\n",
    "print(\"Labeled dataframe saved to excel successfully\")"
   ]
  },
  {
   "cell_type": "code",
   "execution_count": 41,
   "id": "f9190d52",
   "metadata": {},
   "outputs": [
    {
     "name": "stdout",
     "output_type": "stream",
     "text": [
      "      status        time\n",
      "0  Cool down  993.988405\n",
      "1        GET  512.492916\n"
     ]
    }
   ],
   "source": [
    "#3).What was the average time each tested lasted excluding warm up for all athletes?\n",
    "\n",
    "# Finding the avg_time\n",
    "exc_warmup = Merged_df[Merged_df['status']!='Warm up']\n",
    "avg_time = exc_warmup.groupby('status')['time'].mean().reset_index()\n",
    "print(avg_time)"
   ]
  },
  {
   "cell_type": "code",
   "execution_count": 43,
   "id": "2a386c7f",
   "metadata": {},
   "outputs": [
    {
     "name": "stdout",
     "output_type": "stream",
     "text": [
      "The sport with the highest HRV is 'kayak' with an avg hrv value of : 150.51\n"
     ]
    }
   ],
   "source": [
    "#4).Athletes from which sport had the highest average cardiorespiratory fitness in terms of HRV?\n",
    "\n",
    "# Finding te difference between RR intervals\n",
    "Merged_df['RR_diff'] = Merged_df.groupby('ID')['RR'].diff()\n",
    "\n",
    "# Calculating standard deviation for each athletes\n",
    "Merged_df['HRV'] = Merged_df.groupby('ID')['RR_diff'].transform('std')\n",
    "\n",
    "# Merging athletes table \n",
    "athlete_sport = Merged_df.merge(Athletes, on = 'ID',how = \"outer\")\n",
    "athlete_sport.head(5)\n",
    "\n",
    "# Finding the avg\n",
    "average_hrv_sport = athlete_sport.groupby('sport')['HRV'].mean()\n",
    "\n",
    "# Finding the sport with the highest average HRV\n",
    "HRV_highest = average_hrv_sport.idxmax()\n",
    "highest_avgerage_hrv_value = average_hrv_sport.max()\n",
    "print(f\"The sport with the highest HRV is '{HRV_highest}' with an avg hrv value of : {highest_avgerage_hrv_value:.2f}\")\n"
   ]
  },
  {
   "cell_type": "code",
   "execution_count": 44,
   "id": "f731a09c",
   "metadata": {},
   "outputs": [
    {
     "name": "stdout",
     "output_type": "stream",
     "text": [
      "      status        time\n",
      "0  Cool down  993.988405\n",
      "1        GET  512.492916\n",
      "2    Warm up  -90.058246\n"
     ]
    }
   ],
   "source": [
    "#5).What was the average time each test lasted (including warm up) for all athletes?\n",
    "\n",
    "# Finding the average time\n",
    "workout = Merged_df.groupby('status')['time'].mean().reset_index()\n",
    "print(workout)"
   ]
  },
  {
   "cell_type": "code",
   "execution_count": 46,
   "id": "a4e12dbe",
   "metadata": {},
   "outputs": [
    {
     "name": "stdout",
     "output_type": "stream",
     "text": [
      "Most common power above 0:50.0watts\n",
      "Average time for the sport fencing with watts is 50.0watts:time taken is 91.1603514211884 seconds\n"
     ]
    }
   ],
   "source": [
    "#6).What was the most common  wattage (above 0) achieved by participants and for how many seconds (average time)? \n",
    "   #You may choose to show averages based on any one/all sports. \n",
    "\n",
    "# Filtering the specific sport:\n",
    "df_athelets = pd.merge(Merged_df,Athletes,how = 'outer')\n",
    "df_athelets = df_athelets[df_athelets['sport']=='fencing']\n",
    "power_value = df_athelets[df_athelets['power']>0]\n",
    "Most_common_power  =power_value['power'].value_counts().idxmax()\n",
    "\n",
    "# Finding the avg time_second\n",
    "Average_time = power_value[power_value['power']== Most_common_power]['time'].mean()\n",
    "print(f\"Most common power above 0:{Most_common_power}watts\")\n",
    "print(f\"Average time for the sport fencing with watts is {Most_common_power}watts:time taken is {Average_time} seconds\")\n"
   ]
  },
  {
   "cell_type": "code",
   "execution_count": 112,
   "id": "af7276b5",
   "metadata": {},
   "outputs": [
    {
     "data": {
      "image/png": "[encoded data removed]",
      "text/plain": [
       "<Figure size 864x720 with 2 Axes>"
      ]
     },
     "metadata": {
      "needs_background": "light"
     },
     "output_type": "display_data"
    }
   ],
   "source": [
    "#7).Create a correlation matrix to show the relationship between HR, BMI and sport\n",
    "\n",
    "# Finding the avg heartrate:\n",
    "Merged_df['HR'] = 60/(Merged_df['RR']/1000)\n",
    "avg_HR_ath = Merged_df.groupby('ID')['HR'].mean().reset_index()\n",
    "\n",
    "# Finding bmi:\n",
    "Athletes['BMI'] = round(Athletes['Weight']/(Athletes['Height']*2),2)\n",
    "Merged_df1 = pd.merge(Merged_df,Athletes,on ='ID',how ='inner')\n",
    "\n",
    "# Finding Correlation:\n",
    "correlation_data = Merged_df1[['HR','BMI','sport']]\n",
    "correlation_encoded = pd.get_dummies(correlation_data, columns = ['sport'])\n",
    "correlation_matrix = correlation_encoded.corr()\n",
    "\n",
    "# Freating a heatmap:\n",
    "# plt.figure(figure = (12,10))\n",
    "# sns.heatmap(correlation_matrix,annot = True,cmap = 'Greens',fmt ='.2f',vmin = -1,vmax = 1)\n",
    "\n",
    "plt.figure(figsize=(12,10))\n",
    "sns.heatmap(correlation_matrix, annot=True, cmap='Greens', fmt='.2f', vmin=-1, vmax=1)\n",
    "\n",
    "# Show the plot\n",
    "plt.title('Correlation Matrix:HR,BMI,sport')\n",
    "plt.show()"
   ]
  },
  {
   "cell_type": "code",
   "execution_count": 55,
   "id": "9eb9c6cd",
   "metadata": {},
   "outputs": [
    {
     "name": "stdout",
     "output_type": "stream",
     "text": [
      "           Full Name  sport\n",
      "10  Isabella Griffin  kayak\n",
      "11       Caleb Dixon  kayak\n",
      "12     Mia Carpenter  kayak\n",
      "13   Harper Mitchell  kayak\n",
      "14     Mason Wallace  kayak\n",
      "15    Logan Anderson  kayak\n"
     ]
    }
   ],
   "source": [
    "#8).What are the names of the kayaking athletes?\n",
    "\n",
    "# Merging first and lastname\n",
    "Athletes['Full Name'] = Athletes['First Name'] + ' ' + Athletes['Last Name']\n",
    "\n",
    "# Finding the athletes name\n",
    "sport = Athletes[Athletes[\"sport\"]== \"kayak\"]\n",
    "print(sport[['Full Name','sport']])\n"
   ]
  },
  {
   "cell_type": "code",
   "execution_count": 57,
   "id": "c9e2aa65",
   "metadata": {},
   "outputs": [
    {
     "name": "stdout",
     "output_type": "stream",
     "text": [
      "The average HRV of the triathlon is 29.29\n"
     ]
    }
   ],
   "source": [
    "#9).What was the average HRV of the triathletes?\n",
    "\n",
    "# Finding RR difference with each athlete\n",
    "Triathlon['RR_Diff'] = Triathlon.groupby('ID')['RR'].diff()\n",
    "\n",
    "# Finding std deviation from RR intervals\n",
    "average_hrv = Triathlon.groupby('ID')['RR_Diff'].std()\n",
    "\n",
    "# Finding the avg of RR\n",
    "avg = average_hrv.mean()\n",
    "print(f\"The average HRV of the triathlon is {avg:.2f}\")"
   ]
  },
  {
   "cell_type": "code",
   "execution_count": 68,
   "id": "682cd8be",
   "metadata": {},
   "outputs": [
    {
     "ename": "NameError",
     "evalue": "name 'athlete_triathlon' is not defined",
     "output_type": "error",
     "traceback": [
      "\u001b[0;31m---------------------------------------------------------------------------\u001b[0m",
      "\u001b[0;31mNameError\u001b[0m                                 Traceback (most recent call last)",
      "\u001b[0;32m/var/folders/5w/th17csyd6r14gjdhdkkz0q0h0000gn/T/ipykernel_38801/923491339.py\u001b[0m in \u001b[0;36m<module>\u001b[0;34m\u001b[0m\n\u001b[1;32m      2\u001b[0m \u001b[0;34m\u001b[0m\u001b[0m\n\u001b[1;32m      3\u001b[0m \u001b[0;31m# Filtering the athlete 12 in HR Zone 5\u001b[0m\u001b[0;34m\u001b[0m\u001b[0;34m\u001b[0m\u001b[0m\n\u001b[0;32m----> 4\u001b[0;31m \u001b[0mdf_filt\u001b[0m \u001b[0;34m=\u001b[0m \u001b[0mathlete_triathlon\u001b[0m\u001b[0;34m[\u001b[0m\u001b[0;34m(\u001b[0m\u001b[0mathlete_triathlon\u001b[0m\u001b[0;34m[\u001b[0m\u001b[0;34m\"ID\"\u001b[0m\u001b[0;34m]\u001b[0m \u001b[0;34m==\u001b[0m \u001b[0;36m12\u001b[0m\u001b[0;34m)\u001b[0m \u001b[0;34m&\u001b[0m \u001b[0;34m(\u001b[0m\u001b[0mathlete_triathlon\u001b[0m\u001b[0;34m[\u001b[0m\u001b[0;34m\"Zone\"\u001b[0m\u001b[0;34m]\u001b[0m \u001b[0;34m==\u001b[0m \u001b[0;34m'Zone 5 (Anaerobic)'\u001b[0m\u001b[0;34m)\u001b[0m\u001b[0;34m]\u001b[0m\u001b[0;34m\u001b[0m\u001b[0;34m\u001b[0m\u001b[0m\n\u001b[0m\u001b[1;32m      5\u001b[0m \u001b[0;34m\u001b[0m\u001b[0m\n\u001b[1;32m      6\u001b[0m \u001b[0;31m# df_filt =athlete_triathlon[athlete_triathlon([\"ID]\"==12) & athlete_triathlon([\"Zone\"]=='Zone 5 ((Anaerobic)')]\u001b[0m\u001b[0;34m\u001b[0m\u001b[0;34m\u001b[0m\u001b[0m\n",
      "\u001b[0;31mNameError\u001b[0m: name 'athlete_triathlon' is not defined"
     ]
    }
   ],
   "source": [
    "#10).How long was athlete 12 in HR Zone 5?\n",
    "\n",
    "# Filtering the athlete 12 in HR Zone 5\n",
    "df_filt = athlete_triathlon[(athlete_triathlon[\"ID\"] == 12) & (athlete_triathlon[\"Zone\"] == 'Zone 5 (Anaerobic)')]\n",
    "\n",
    "# df_filt =athlete_triathlon[athlete_triathlon([\"ID]\"==12) & athlete_triathlon([\"Zone\"]=='Zone 5 ((Anaerobic)')]\n",
    "# Total time spent in zone 5\n",
    "Zone_5_time = df_filt['time'].sum()\n",
    "print(f\"Athlete 12 spent {Zone_5_time} seconds hr Zone 5.\")"
   ]
  },
  {
   "cell_type": "code",
   "execution_count": 69,
   "id": "e959f668",
   "metadata": {},
   "outputs": [
    {
     "data": {
      "image/png": "[encoded data removed]",
      "text/plain": [
       "<Figure size 576x432 with 1 Axes>"
      ]
     },
     "metadata": {
      "needs_background": "light"
     },
     "output_type": "display_data"
    }
   ],
   "source": [
    "#11).Create any 3d plot using any data. Values do not have to be from the dataset given. \n",
    " \t\n",
    "from mpl_toolkits import mplot3d\n",
    "num_bars=10\n",
    "#Random x,y and z coordinates for the bars\n",
    "x = np.random.randint(1, 20, num_bars)\n",
    "y = np.random.randint(1, 20, num_bars)\n",
    "z = np.random.randint(1, 10, num_bars)\n",
    "\n",
    "width = 3\n",
    "#3d bar plot\n",
    "fig = plt.figure(figsize=(8,6))\n",
    "ax = fig.add_subplot(111, projection='3d')\n",
    "ax.bar3d(x, y, np.zeros_like(z), width, width, 2)\n",
    "\n",
    "#set labes and title\n",
    "ax.set_xlabel('x Label')\n",
    "ax.set_ylabel('y Label')\n",
    "ax.set_zlabel('z Label')\n",
    "ax.set_title('Simple 3D Bar Plot')\n",
    "\n",
    "plt.show()"
   ]
  },
  {
   "cell_type": "code",
   "execution_count": 74,
   "id": "adc4190e",
   "metadata": {},
   "outputs": [
    {
     "name": "stdout",
     "output_type": "stream",
     "text": [
      "      ID         Full Name  sport    VO2 Max\n",
      "11  12.0       Caleb Dixon  kayak  92.258212\n",
      "12  13.0     Mia Carpenter  kayak  90.758693\n",
      "10  11.0  Isabella Griffin  kayak  89.586903\n"
     ]
    }
   ],
   "source": [
    "#12).What were the Highest 3 V02 Maxes recorded. Display all 3 names, sport and personal V02 Maxes.\n",
    "\n",
    "#Merging athletes table with another table\n",
    "Athletes['Full Name'] = Athletes['First Name']+\" \"+Athletes['Last Name']\n",
    "merged_athlete = Athletes.merge(Merged_df, on='ID', how = 'right')\n",
    "\n",
    "#Total of all VO2 values per athlete\n",
    "total_vo2_per_athlete = merged_athlete.groupby(['ID', 'Full Name','sport','Weight'])['VO2'].sum()\n",
    "total_vo2_per_athlete = total_vo2_per_athlete.reset_index(name = 'total vo2')\n",
    "\n",
    "#Calculation of VO2max\n",
    "total_vo2_per_athlete['VO2 Max'] = total_vo2_per_athlete['total vo2'] / total_vo2_per_athlete['Weight']\n",
    "\n",
    "#Getting the 3 largest VO2 max values\n",
    "highest_3_vo2_max = total_vo2_per_athlete.nlargest(3,'VO2 Max')\n",
    "highest_3_vo2_max = highest_3_vo2_max[['ID', 'Full Name','sport','VO2 Max']]\n",
    "print(highest_3_vo2_max)"
   ]
  },
  {
   "cell_type": "code",
   "execution_count": 77,
   "id": "f656e540",
   "metadata": {},
   "outputs": [
    {
     "name": "stdout",
     "output_type": "stream",
     "text": [
      "      ID   age  Weight  Height  P_vt1  P_vt2      sport  Gender Ethnicity  \\\n",
      "0    1.0  15.0    53.7   161.0   50.0  140.0    fencing  Female   African   \n",
      "1    2.0  15.0    56.2   162.0   80.0  127.0    fencing    Male   African   \n",
      "2    3.0  16.0    89.9   191.0  155.0  300.0    fencing    Male     White   \n",
      "3    4.0  16.0    76.5   180.0  215.0  275.0    fencing    Male     White   \n",
      "4    5.0  17.0    76.4   186.0  110.0  172.0    fencing  Female     White   \n",
      "5    6.0  17.0    65.6   169.0  131.0  186.0    fencing  Female     White   \n",
      "6    7.0  15.0    49.8   165.0   65.0  108.0    fencing  Female     White   \n",
      "7    8.0  15.0    51.2   165.0   80.0  133.0    fencing  Female     White   \n",
      "8    9.0  14.0    57.1   176.0   50.0  125.0    fencing  Female   African   \n",
      "9   10.0  14.0    58.8   177.0  101.0  162.0    fencing  Female   African   \n",
      "10  11.0  18.0    84.8   182.0  174.0  268.0      kayak  Female   African   \n",
      "11  12.0  18.0    86.0   183.0  170.0  294.0      kayak    Male   African   \n",
      "12  13.0  18.0    83.9   183.0  144.0  267.0      kayak  Female     Asian   \n",
      "13  14.0  13.0    62.3   171.0  140.0  170.0      kayak  Female     Asian   \n",
      "14  15.0  13.0    63.5   172.0  125.0  156.0      kayak    Male    Latino   \n",
      "15  16.0  16.0    70.4   182.0   79.0  175.0      kayak    Male    Latino   \n",
      "16  17.0  12.0    39.9   156.0  101.0  145.0  triathlon    Male    Latino   \n",
      "17  18.0  12.0    39.7   158.0   65.0  168.0  triathlon    Male    Latino   \n",
      "\n",
      "   First Name  Last Name   BMI         Full Name  year of birth  \n",
      "0      Olivia   Martinez  0.17   Olivia Martinez         2009.0  \n",
      "1       Ethan   Reynolds  0.17    Ethan Reynolds         2009.0  \n",
      "2     Jackson     Harper  0.24    Jackson Harper         2008.0  \n",
      "3        Liam    Sanchez  0.21      Liam Sanchez         2008.0  \n",
      "4         Ava   Thompson  0.21      Ava Thompson         2007.0  \n",
      "5      Sophia  Rodriguez  0.19  Sophia Rodriguez         2007.0  \n",
      "6       Grace    Simmons  0.15     Grace Simmons         2009.0  \n",
      "7       Aiden    Bennett  0.16     Aiden Bennett         2009.0  \n",
      "8       Chloe      Price  0.16       Chloe Price         2010.0  \n",
      "9        Lily     Jordan  0.17       Lily Jordan         2010.0  \n",
      "10   Isabella    Griffin  0.23  Isabella Griffin         2006.0  \n",
      "11      Caleb      Dixon  0.23       Caleb Dixon         2006.0  \n",
      "12        Mia  Carpenter  0.23     Mia Carpenter         2006.0  \n",
      "13     Harper   Mitchell  0.18   Harper Mitchell         2011.0  \n",
      "14      Mason    Wallace  0.18     Mason Wallace         2011.0  \n",
      "15      Logan   Anderson  0.19    Logan Anderson         2008.0  \n",
      "16      Lucas     Foster  0.13      Lucas Foster         2012.0  \n",
      "17       Owen      Myers  0.13        Owen Myers         2012.0  \n"
     ]
    }
   ],
   "source": [
    "#13). Calculate the year of birth of each athlete and store it as a column in the tables \n",
    "\n",
    "#To find year of birth\n",
    "from datetime import date\n",
    "today = date.today()\n",
    "Athletes['year of birth'] = today.year-Athletes['age']\n",
    "print(Athletes)"
   ]
  },
  {
   "cell_type": "code",
   "execution_count": 80,
   "id": "f1333ea2",
   "metadata": {},
   "outputs": [
    {
     "name": "stdout",
     "output_type": "stream",
     "text": [
      "    ID        Full Name    sport    VO2 Max\n",
      "6  7.0    Grace Simmons  fencing  38.403988\n",
      "1  2.0   Ethan Reynolds  fencing  38.632602\n",
      "0  1.0  Olivia Martinez  fencing  42.807730\n"
     ]
    }
   ],
   "source": [
    "#14).What were the lowest 3 V02 Maxes recorded. Display all 3 names, sport and personal V02 Maxes.\n",
    "\n",
    "# Merging athletes table with another table\n",
    "Athletes['Full Name'] = Athletes['First Name']+\" \"+Athletes['Last Name']\n",
    "merged_athlete = Athletes.merge(Merged_df, on='ID', how = 'right')\n",
    "\n",
    "# Total of all VO2 values per athlete\n",
    "total_vo2_per_athlete = merged_athlete.groupby(['ID', 'Full Name','sport','Weight'])['VO2'].sum()\n",
    "total_vo2_per_athlete = total_vo2_per_athlete.reset_index(name ='total vo2')\n",
    "\n",
    "# Calculation of VO2max\n",
    "total_vo2_per_athlete['VO2 Max'] = total_vo2_per_athlete['total vo2'] / total_vo2_per_athlete['Weight']\n",
    "\n",
    "# Get the 3 smallest VO2 max values\n",
    "lowest_3_vo2_max = total_vo2_per_athlete.nsmallest(3,'VO2 Max')\n",
    "\n",
    "# Select and display the relevent columns\n",
    "lowest_3_vo2_max = lowest_3_vo2_max[['ID', 'Full Name','sport','VO2 Max']]\n",
    "print(lowest_3_vo2_max)"
   ]
  },
  {
   "cell_type": "code",
   "execution_count": 82,
   "id": "900f7193",
   "metadata": {},
   "outputs": [
    {
     "name": "stdout",
     "output_type": "stream",
     "text": [
      "         ID   age  Weight  Height  P_vt1  P_vt2    sport  Gender Ethnicity  \\\n",
      "0      11.0  18.0    84.8   182.0  174.0  268.0    kayak  Female   African   \n",
      "1      11.0  18.0    84.8   182.0  174.0  268.0    kayak  Female   African   \n",
      "2      11.0  18.0    84.8   182.0  174.0  268.0    kayak  Female   African   \n",
      "3      11.0  18.0    84.8   182.0  174.0  268.0    kayak  Female   African   \n",
      "4      11.0  18.0    84.8   182.0  174.0  268.0    kayak  Female   African   \n",
      "...     ...   ...     ...     ...    ...    ...      ...     ...       ...   \n",
      "52057  10.0  14.0    58.8   177.0  101.0  162.0  fencing  Female   African   \n",
      "52058  10.0  14.0    58.8   177.0  101.0  162.0  fencing  Female   African   \n",
      "52059  10.0  14.0    58.8   177.0  101.0  162.0  fencing  Female   African   \n",
      "52060  10.0  14.0    58.8   177.0  101.0  162.0  fencing  Female   African   \n",
      "52061  10.0  14.0    58.8   177.0  101.0  162.0  fencing  Female   African   \n",
      "\n",
      "      First Name  ... year of birth     time     RR       VO2  power  \\\n",
      "0       Isabella  ...        2006.0 -168.600  727.0  0.287147    0.0   \n",
      "1       Isabella  ...        2006.0 -167.872  728.0  0.287147    0.0   \n",
      "2       Isabella  ...        2006.0 -167.148  724.0  0.287147    0.0   \n",
      "3       Isabella  ...        2006.0 -166.484  664.0  0.320580    0.0   \n",
      "4       Isabella  ...        2006.0 -165.836  648.0  0.320580    0.0   \n",
      "...          ...  ...           ...      ...    ...       ...    ...   \n",
      "52057       Lily  ...        2010.0  942.700  428.0  0.786363    0.0   \n",
      "52058       Lily  ...        2010.0  943.124  424.0  0.786363    0.0   \n",
      "52059       Lily  ...        2010.0  943.552  428.0  0.786363    0.0   \n",
      "52060       Lily  ...        2010.0  943.976  424.0  0.786363    0.0   \n",
      "52061       Lily  ...        2010.0  944.404  428.0  0.786363    0.0   \n",
      "\n",
      "          status  RR_diff        HRV          HR                        Zone  \n",
      "0        Warm up      NaN  13.423014   82.530949      Zone 1 (Recovery/Easy)  \n",
      "1        Warm up      1.0  13.423014   82.417582      Zone 1 (Recovery/Easy)  \n",
      "2        Warm up     -4.0  13.423014   82.872928      Zone 1 (Recovery/Easy)  \n",
      "3        Warm up    -60.0  13.423014   90.361446      Zone 1 (Recovery/Easy)  \n",
      "4        Warm up    -16.0  13.423014   92.592593      Zone 1 (Recovery/Easy)  \n",
      "...          ...      ...        ...         ...                         ...  \n",
      "52057  Cool down      4.0  26.865031  140.186916  Zone 4 (Lactate Threshold)  \n",
      "52058  Cool down     -4.0  26.865031  141.509434  Zone 4 (Lactate Threshold)  \n",
      "52059  Cool down      4.0  26.865031  140.186916  Zone 4 (Lactate Threshold)  \n",
      "52060  Cool down     -4.0  26.865031  141.509434  Zone 4 (Lactate Threshold)  \n",
      "52061  Cool down      4.0  26.865031  140.186916  Zone 4 (Lactate Threshold)  \n",
      "\n",
      "[52062 rows x 23 columns]\n"
     ]
    }
   ],
   "source": [
    "#15).Assign 1 of the following 5 heart rate zones for every record for all sports and athletes\n",
    "# and add this as a column to every table:\n",
    "#Zone 1 (recovery/easy)       <100 HR max \n",
    "#Zone 2 (aerobic/base)        100-120 HR max\n",
    "#Zone 3 (tempo)               120-135 HR max\n",
    "#Zone 4 (lactate threshold)   135-155 HR max\n",
    "#Zone 5 (anaerobic)           155+ HR max and above\n",
    "\n",
    "# Merging table\n",
    "athlete_triathlon = Athletes.merge(Merged_df, on ='ID', how = 'right')\n",
    "\n",
    "# Finding HR Max\n",
    "athlete_triathlon['HR'] = 60 / (athlete_triathlon['RR'] / 1000)\n",
    "\n",
    "# Assigning zone\n",
    "Zone_1 =  athlete_triathlon['HR'] <100\n",
    "Zone_2 = (athlete_triathlon['HR'] >=100 ) & (athlete_triathlon['HR'] <120)\n",
    "Zone_3 = (athlete_triathlon['HR'] >=120 ) & (athlete_triathlon['HR'] <135)\n",
    "Zone_4 = (athlete_triathlon['HR'] >=135 ) & (athlete_triathlon['HR'] <155)\n",
    "Zone_5 =  athlete_triathlon['HR'] >=155\n",
    "\n",
    "# Asssigning the zones\n",
    "\n",
    "athlete_triathlon.loc[Zone_1, 'Zone'] = 'Zone 1 (Recovery/Easy)'\n",
    "athlete_triathlon.loc[Zone_2, 'Zone'] = 'Zone 2 (Aerobic/Base)'\n",
    "athlete_triathlon.loc[Zone_3, 'Zone'] = 'Zone 3 (Tempo)'\n",
    "athlete_triathlon.loc[Zone_4, 'Zone'] = 'Zone 4 (Lactate Threshold)'\n",
    "athlete_triathlon.loc[Zone_5, 'Zone'] = 'Zone 5 (Anaerobic)'\n",
    "\n",
    "# Final DataFrame to a new Excel file\n",
    "output_file = 'Zonewise_athlete_data.xlsx'\n",
    "athlete_triathlon.to_excel(output_file, index = False)\n",
    "print(athlete_triathlon)"
   ]
  },
  {
   "cell_type": "code",
   "execution_count": 84,
   "id": "0859ede7",
   "metadata": {},
   "outputs": [
    {
     "name": "stdout",
     "output_type": "stream",
     "text": [
      "List of BMIs for each athlete: [0.17, 0.17, 0.24, 0.21, 0.21, 0.19, 0.15, 0.16, 0.16, 0.17, 0.23, 0.23, 0.23, 0.18, 0.18, 0.19, 0.13, 0.13]\n"
     ]
    }
   ],
   "source": [
    "#16).Calculate the BMI of every athlete and display it as a list.\n",
    "\n",
    "# To find BMI\n",
    "Athletes['BMI'] = round(Athletes['Weight']/(Athletes['Height']*2),2)\n",
    "\n",
    "# Converting BMI column to list\n",
    "BMI_list=Athletes['BMI'].tolist()\n",
    "print(\"List of BMIs for each athlete:\",BMI_list)"
   ]
  },
  {
   "cell_type": "code",
   "execution_count": null,
   "id": "d579f321",
   "metadata": {},
   "outputs": [],
   "source": []
  },
  {
   "cell_type": "code",
   "execution_count": null,
   "id": "3f339c08",
   "metadata": {},
   "outputs": [],
   "source": []
  },
  {
   "cell_type": "code",
   "execution_count": null,
   "id": "93f418dd",
   "metadata": {},
   "outputs": [],
   "source": []
  },
  {
   "cell_type": "code",
   "execution_count": null,
   "id": "7b24620a",
   "metadata": {},
   "outputs": [],
   "source": []
  },
  {
   "cell_type": "code",
   "execution_count": null,
   "id": "9ccb45b8",
   "metadata": {},
   "outputs": [],
   "source": []
  },
  {
   "cell_type": "code",
   "execution_count": null,
   "id": "83d7570c",
   "metadata": {},
   "outputs": [],
   "source": [
    "Q.33 Create a list and a tuple. Print the types and lengths of  both."
   ]
  },
  {
   "cell_type": "code",
   "execution_count": 71,
   "id": "7b504a02",
   "metadata": {},
   "outputs": [
    {
     "name": "stdout",
     "output_type": "stream",
     "text": [
      "List Type: <class 'list'>\n",
      "List Length: 19478\n",
      "Tuple Type: <class 'tuple'>\n",
      "Tuple Length: 19478\n"
     ]
    }
   ],
   "source": [
    "\n",
    "# # Load the dataset\n",
    "file_path = '/Users/rajnishkhatri/Downloads/V02Max_Combined.xlsx'\n",
    "df = pd.read_excel(file_path)\n",
    "\n",
    "# Convert the DataFrame to a list and a tuple\n",
    "data_list = df.values.tolist()\n",
    "data_tuple = tuple(map(tuple, df.values))\n",
    "\n",
    "# Print the types and lengths of both\n",
    "print(\"List Type:\", type(data_list))\n",
    "print(\"List Length:\", len(data_list))\n",
    "\n",
    "print(\"Tuple Type:\", type(data_tuple))\n",
    "print(\"Tuple Length:\", len(data_tuple))\n"
   ]
  },
  {
   "cell_type": "markdown",
   "id": "d4050c6c",
   "metadata": {},
   "source": [
    "Q.34 Display a word cloud using any values in the dataset."
   ]
  },
  {
   "cell_type": "code",
   "execution_count": 14,
   "id": "c2233fb0",
   "metadata": {},
   "outputs": [
    {
     "name": "stdout",
     "output_type": "stream",
     "text": [
      "Requirement already satisfied: wordcloud in /opt/anaconda3/lib/python3.9/site-packages (1.9.3)\n",
      "Requirement already satisfied: matplotlib in /opt/anaconda3/lib/python3.9/site-packages (from wordcloud) (3.4.3)\n",
      "Requirement already satisfied: pillow in /opt/anaconda3/lib/python3.9/site-packages (from wordcloud) (8.4.0)\n",
      "Requirement already satisfied: numpy>=1.6.1 in /opt/anaconda3/lib/python3.9/site-packages (from wordcloud) (1.20.3)\n",
      "Requirement already satisfied: cycler>=0.10 in /opt/anaconda3/lib/python3.9/site-packages (from matplotlib->wordcloud) (0.10.0)\n",
      "Requirement already satisfied: kiwisolver>=1.0.1 in /opt/anaconda3/lib/python3.9/site-packages (from matplotlib->wordcloud) (1.3.1)\n",
      "Requirement already satisfied: pyparsing>=2.2.1 in /opt/anaconda3/lib/python3.9/site-packages (from matplotlib->wordcloud) (3.0.4)\n",
      "Requirement already satisfied: python-dateutil>=2.7 in /opt/anaconda3/lib/python3.9/site-packages (from matplotlib->wordcloud) (2.8.2)\n",
      "Requirement already satisfied: six in /opt/anaconda3/lib/python3.9/site-packages (from cycler>=0.10->matplotlib->wordcloud) (1.15.0)\n"
     ]
    }
   ],
   "source": [
    "!pip install wordcloud"
   ]
  },
  {
   "cell_type": "code",
   "execution_count": 96,
   "id": "b963a94f",
   "metadata": {},
   "outputs": [
    {
     "ename": "ValueError",
     "evalue": "Only supported for TrueType fonts",
     "output_type": "error",
     "traceback": [
      "\u001b[0;31m---------------------------------------------------------------------------\u001b[0m",
      "\u001b[0;31mValueError\u001b[0m                                Traceback (most recent call last)",
      "\u001b[0;32m/var/folders/5w/th17csyd6r14gjdhdkkz0q0h0000gn/T/ipykernel_38801/497722406.py\u001b[0m in \u001b[0;36m<module>\u001b[0;34m\u001b[0m\n\u001b[1;32m      7\u001b[0m \u001b[0;34m\u001b[0m\u001b[0m\n\u001b[1;32m      8\u001b[0m \u001b[0;31m# Generate the word cloud\u001b[0m\u001b[0;34m\u001b[0m\u001b[0;34m\u001b[0m\u001b[0m\n\u001b[0;32m----> 9\u001b[0;31m \u001b[0mwordcloud\u001b[0m \u001b[0;34m=\u001b[0m \u001b[0mWordCloud\u001b[0m\u001b[0;34m(\u001b[0m\u001b[0mwidth\u001b[0m\u001b[0;34m=\u001b[0m\u001b[0;36m800\u001b[0m\u001b[0;34m,\u001b[0m \u001b[0mheight\u001b[0m\u001b[0;34m=\u001b[0m\u001b[0;36m400\u001b[0m\u001b[0;34m,\u001b[0m \u001b[0mbackground_color\u001b[0m\u001b[0;34m=\u001b[0m\u001b[0;34m'white'\u001b[0m\u001b[0;34m)\u001b[0m\u001b[0;34m.\u001b[0m\u001b[0mgenerate\u001b[0m\u001b[0;34m(\u001b[0m\u001b[0mtext\u001b[0m\u001b[0;34m)\u001b[0m\u001b[0;34m\u001b[0m\u001b[0;34m\u001b[0m\u001b[0m\n\u001b[0m\u001b[1;32m     10\u001b[0m \u001b[0;34m\u001b[0m\u001b[0m\n\u001b[1;32m     11\u001b[0m \u001b[0;31m# Display the word cloud using matplotlib\u001b[0m\u001b[0;34m\u001b[0m\u001b[0;34m\u001b[0m\u001b[0m\n",
      "\u001b[0;32m/opt/anaconda3/lib/python3.9/site-packages/wordcloud/wordcloud.py\u001b[0m in \u001b[0;36mgenerate\u001b[0;34m(self, text)\u001b[0m\n\u001b[1;32m    640\u001b[0m         \u001b[0mself\u001b[0m\u001b[0;34m\u001b[0m\u001b[0;34m\u001b[0m\u001b[0m\n\u001b[1;32m    641\u001b[0m         \"\"\"\n\u001b[0;32m--> 642\u001b[0;31m         \u001b[0;32mreturn\u001b[0m \u001b[0mself\u001b[0m\u001b[0;34m.\u001b[0m\u001b[0mgenerate_from_text\u001b[0m\u001b[0;34m(\u001b[0m\u001b[0mtext\u001b[0m\u001b[0;34m)\u001b[0m\u001b[0;34m\u001b[0m\u001b[0;34m\u001b[0m\u001b[0m\n\u001b[0m\u001b[1;32m    643\u001b[0m \u001b[0;34m\u001b[0m\u001b[0m\n\u001b[1;32m    644\u001b[0m     \u001b[0;32mdef\u001b[0m \u001b[0m_check_generated\u001b[0m\u001b[0;34m(\u001b[0m\u001b[0mself\u001b[0m\u001b[0;34m)\u001b[0m\u001b[0;34m:\u001b[0m\u001b[0;34m\u001b[0m\u001b[0;34m\u001b[0m\u001b[0m\n",
      "\u001b[0;32m/opt/anaconda3/lib/python3.9/site-packages/wordcloud/wordcloud.py\u001b[0m in \u001b[0;36mgenerate_from_text\u001b[0;34m(self, text)\u001b[0m\n\u001b[1;32m    622\u001b[0m         \"\"\"\n\u001b[1;32m    623\u001b[0m         \u001b[0mwords\u001b[0m \u001b[0;34m=\u001b[0m \u001b[0mself\u001b[0m\u001b[0;34m.\u001b[0m\u001b[0mprocess_text\u001b[0m\u001b[0;34m(\u001b[0m\u001b[0mtext\u001b[0m\u001b[0;34m)\u001b[0m\u001b[0;34m\u001b[0m\u001b[0;34m\u001b[0m\u001b[0m\n\u001b[0;32m--> 624\u001b[0;31m         \u001b[0mself\u001b[0m\u001b[0;34m.\u001b[0m\u001b[0mgenerate_from_frequencies\u001b[0m\u001b[0;34m(\u001b[0m\u001b[0mwords\u001b[0m\u001b[0;34m)\u001b[0m\u001b[0;34m\u001b[0m\u001b[0;34m\u001b[0m\u001b[0m\n\u001b[0m\u001b[1;32m    625\u001b[0m         \u001b[0;32mreturn\u001b[0m \u001b[0mself\u001b[0m\u001b[0;34m\u001b[0m\u001b[0;34m\u001b[0m\u001b[0m\n\u001b[1;32m    626\u001b[0m \u001b[0;34m\u001b[0m\u001b[0m\n",
      "\u001b[0;32m/opt/anaconda3/lib/python3.9/site-packages/wordcloud/wordcloud.py\u001b[0m in \u001b[0;36mgenerate_from_frequencies\u001b[0;34m(self, frequencies, max_font_size)\u001b[0m\n\u001b[1;32m    451\u001b[0m                 \u001b[0mfont_size\u001b[0m \u001b[0;34m=\u001b[0m \u001b[0mself\u001b[0m\u001b[0;34m.\u001b[0m\u001b[0mheight\u001b[0m\u001b[0;34m\u001b[0m\u001b[0;34m\u001b[0m\u001b[0m\n\u001b[1;32m    452\u001b[0m             \u001b[0;32melse\u001b[0m\u001b[0;34m:\u001b[0m\u001b[0;34m\u001b[0m\u001b[0;34m\u001b[0m\u001b[0m\n\u001b[0;32m--> 453\u001b[0;31m                 self.generate_from_frequencies(dict(frequencies[:2]),\n\u001b[0m\u001b[1;32m    454\u001b[0m                                                max_font_size=self.height)\n\u001b[1;32m    455\u001b[0m                 \u001b[0;31m# find font sizes\u001b[0m\u001b[0;34m\u001b[0m\u001b[0;34m\u001b[0m\u001b[0m\n",
      "\u001b[0;32m/opt/anaconda3/lib/python3.9/site-packages/wordcloud/wordcloud.py\u001b[0m in \u001b[0;36mgenerate_from_frequencies\u001b[0;34m(self, frequencies, max_font_size)\u001b[0m\n\u001b[1;32m    509\u001b[0m                     font, orientation=orientation)\n\u001b[1;32m    510\u001b[0m                 \u001b[0;31m# get size of resulting text\u001b[0m\u001b[0;34m\u001b[0m\u001b[0;34m\u001b[0m\u001b[0m\n\u001b[0;32m--> 511\u001b[0;31m                 \u001b[0mbox_size\u001b[0m \u001b[0;34m=\u001b[0m \u001b[0mdraw\u001b[0m\u001b[0;34m.\u001b[0m\u001b[0mtextbbox\u001b[0m\u001b[0;34m(\u001b[0m\u001b[0;34m(\u001b[0m\u001b[0;36m0\u001b[0m\u001b[0;34m,\u001b[0m \u001b[0;36m0\u001b[0m\u001b[0;34m)\u001b[0m\u001b[0;34m,\u001b[0m \u001b[0mword\u001b[0m\u001b[0;34m,\u001b[0m \u001b[0mfont\u001b[0m\u001b[0;34m=\u001b[0m\u001b[0mtransposed_font\u001b[0m\u001b[0;34m,\u001b[0m \u001b[0manchor\u001b[0m\u001b[0;34m=\u001b[0m\u001b[0;34m\"lt\"\u001b[0m\u001b[0;34m)\u001b[0m\u001b[0;34m\u001b[0m\u001b[0;34m\u001b[0m\u001b[0m\n\u001b[0m\u001b[1;32m    512\u001b[0m                 \u001b[0;31m# find possible places using integral image:\u001b[0m\u001b[0;34m\u001b[0m\u001b[0;34m\u001b[0m\u001b[0m\n\u001b[1;32m    513\u001b[0m                 result = occupancy.sample_position(box_size[3] + self.margin,\n",
      "\u001b[0;32m/opt/anaconda3/lib/python3.9/site-packages/PIL/ImageDraw.py\u001b[0m in \u001b[0;36mtextbbox\u001b[0;34m(self, xy, text, font, anchor, spacing, align, direction, features, language, stroke_width, embedded_color)\u001b[0m\n\u001b[1;32m    649\u001b[0m             \u001b[0mfont\u001b[0m \u001b[0;34m=\u001b[0m \u001b[0mself\u001b[0m\u001b[0;34m.\u001b[0m\u001b[0mgetfont\u001b[0m\u001b[0;34m(\u001b[0m\u001b[0;34m)\u001b[0m\u001b[0;34m\u001b[0m\u001b[0;34m\u001b[0m\u001b[0m\n\u001b[1;32m    650\u001b[0m         \u001b[0;32mif\u001b[0m \u001b[0;32mnot\u001b[0m \u001b[0misinstance\u001b[0m\u001b[0;34m(\u001b[0m\u001b[0mfont\u001b[0m\u001b[0;34m,\u001b[0m \u001b[0mImageFont\u001b[0m\u001b[0;34m.\u001b[0m\u001b[0mFreeTypeFont\u001b[0m\u001b[0;34m)\u001b[0m\u001b[0;34m:\u001b[0m\u001b[0;34m\u001b[0m\u001b[0;34m\u001b[0m\u001b[0m\n\u001b[0;32m--> 651\u001b[0;31m             \u001b[0;32mraise\u001b[0m \u001b[0mValueError\u001b[0m\u001b[0;34m(\u001b[0m\u001b[0;34m\"Only supported for TrueType fonts\"\u001b[0m\u001b[0;34m)\u001b[0m\u001b[0;34m\u001b[0m\u001b[0;34m\u001b[0m\u001b[0m\n\u001b[0m\u001b[1;32m    652\u001b[0m         \u001b[0mmode\u001b[0m \u001b[0;34m=\u001b[0m \u001b[0;34m\"RGBA\"\u001b[0m \u001b[0;32mif\u001b[0m \u001b[0membedded_color\u001b[0m \u001b[0;32melse\u001b[0m \u001b[0mself\u001b[0m\u001b[0;34m.\u001b[0m\u001b[0mfontmode\u001b[0m\u001b[0;34m\u001b[0m\u001b[0;34m\u001b[0m\u001b[0m\n\u001b[1;32m    653\u001b[0m         bbox = font.getbbox(\n",
      "\u001b[0;31mValueError\u001b[0m: Only supported for TrueType fonts"
     ]
    }
   ],
   "source": [
    "from wordcloud import WordCloud\n",
    "import matplotlib.pyplot as plt\n",
    "\n",
    "\n",
    "# Combine all text data from a specific column or multiple columns\n",
    "text = 'Here is some sample text to generate a word cloud. Add more words here. '.join(Athletes['sport'])  # For example, using the 'sport' column\n",
    "\n",
    "# Generate the word cloud\n",
    "wordcloud = WordCloud(width=800, height=400, background_color='white').generate(text)\n",
    "\n",
    "# Display the word cloud using matplotlib\n",
    "plt.figure(figsize=(6, 3))\n",
    "plt.imshow(wordcloud, interpolation='bilinear')\n",
    "plt.axis('off')\n",
    "plt.show()\n",
    "\n"
   ]
  },
  {
   "cell_type": "code",
   "execution_count": 104,
   "id": "d3808a0f",
   "metadata": {},
   "outputs": [
    {
     "ename": "ValueError",
     "evalue": "Only supported for TrueType fonts",
     "output_type": "error",
     "traceback": [
      "\u001b[0;31m---------------------------------------------------------------------------\u001b[0m",
      "\u001b[0;31mValueError\u001b[0m                                Traceback (most recent call last)",
      "\u001b[0;32m/var/folders/5w/th17csyd6r14gjdhdkkz0q0h0000gn/T/ipykernel_38801/4047368965.py\u001b[0m in \u001b[0;36m<module>\u001b[0;34m\u001b[0m\n\u001b[1;32m      4\u001b[0m \u001b[0;34m\u001b[0m\u001b[0m\n\u001b[1;32m      5\u001b[0m \u001b[0;31m# Generate the word cloud\u001b[0m\u001b[0;34m\u001b[0m\u001b[0;34m\u001b[0m\u001b[0m\n\u001b[0;32m----> 6\u001b[0;31m \u001b[0mwordcloud\u001b[0m \u001b[0;34m=\u001b[0m \u001b[0mWordCloud\u001b[0m\u001b[0;34m(\u001b[0m\u001b[0mwidth\u001b[0m\u001b[0;34m=\u001b[0m\u001b[0;36m800\u001b[0m\u001b[0;34m,\u001b[0m \u001b[0mheight\u001b[0m\u001b[0;34m=\u001b[0m\u001b[0;36m400\u001b[0m\u001b[0;34m,\u001b[0m \u001b[0mbackground_color\u001b[0m\u001b[0;34m=\u001b[0m\u001b[0;34m'white'\u001b[0m\u001b[0;34m)\u001b[0m\u001b[0;34m.\u001b[0m\u001b[0mgenerate\u001b[0m\u001b[0;34m(\u001b[0m\u001b[0mtext\u001b[0m\u001b[0;34m)\u001b[0m\u001b[0;34m\u001b[0m\u001b[0;34m\u001b[0m\u001b[0m\n\u001b[0m\u001b[1;32m      7\u001b[0m \u001b[0;34m\u001b[0m\u001b[0m\n\u001b[1;32m      8\u001b[0m \u001b[0;31m# Display the word cloud using matplotlib\u001b[0m\u001b[0;34m\u001b[0m\u001b[0;34m\u001b[0m\u001b[0m\n",
      "\u001b[0;32m/opt/anaconda3/lib/python3.9/site-packages/wordcloud/wordcloud.py\u001b[0m in \u001b[0;36mgenerate\u001b[0;34m(self, text)\u001b[0m\n\u001b[1;32m    640\u001b[0m         \u001b[0mself\u001b[0m\u001b[0;34m\u001b[0m\u001b[0;34m\u001b[0m\u001b[0m\n\u001b[1;32m    641\u001b[0m         \"\"\"\n\u001b[0;32m--> 642\u001b[0;31m         \u001b[0;32mreturn\u001b[0m \u001b[0mself\u001b[0m\u001b[0;34m.\u001b[0m\u001b[0mgenerate_from_text\u001b[0m\u001b[0;34m(\u001b[0m\u001b[0mtext\u001b[0m\u001b[0;34m)\u001b[0m\u001b[0;34m\u001b[0m\u001b[0;34m\u001b[0m\u001b[0m\n\u001b[0m\u001b[1;32m    643\u001b[0m \u001b[0;34m\u001b[0m\u001b[0m\n\u001b[1;32m    644\u001b[0m     \u001b[0;32mdef\u001b[0m \u001b[0m_check_generated\u001b[0m\u001b[0;34m(\u001b[0m\u001b[0mself\u001b[0m\u001b[0;34m)\u001b[0m\u001b[0;34m:\u001b[0m\u001b[0;34m\u001b[0m\u001b[0;34m\u001b[0m\u001b[0m\n",
      "\u001b[0;32m/opt/anaconda3/lib/python3.9/site-packages/wordcloud/wordcloud.py\u001b[0m in \u001b[0;36mgenerate_from_text\u001b[0;34m(self, text)\u001b[0m\n\u001b[1;32m    622\u001b[0m         \"\"\"\n\u001b[1;32m    623\u001b[0m         \u001b[0mwords\u001b[0m \u001b[0;34m=\u001b[0m \u001b[0mself\u001b[0m\u001b[0;34m.\u001b[0m\u001b[0mprocess_text\u001b[0m\u001b[0;34m(\u001b[0m\u001b[0mtext\u001b[0m\u001b[0;34m)\u001b[0m\u001b[0;34m\u001b[0m\u001b[0;34m\u001b[0m\u001b[0m\n\u001b[0;32m--> 624\u001b[0;31m         \u001b[0mself\u001b[0m\u001b[0;34m.\u001b[0m\u001b[0mgenerate_from_frequencies\u001b[0m\u001b[0;34m(\u001b[0m\u001b[0mwords\u001b[0m\u001b[0;34m)\u001b[0m\u001b[0;34m\u001b[0m\u001b[0;34m\u001b[0m\u001b[0m\n\u001b[0m\u001b[1;32m    625\u001b[0m         \u001b[0;32mreturn\u001b[0m \u001b[0mself\u001b[0m\u001b[0;34m\u001b[0m\u001b[0;34m\u001b[0m\u001b[0m\n\u001b[1;32m    626\u001b[0m \u001b[0;34m\u001b[0m\u001b[0m\n",
      "\u001b[0;32m/opt/anaconda3/lib/python3.9/site-packages/wordcloud/wordcloud.py\u001b[0m in \u001b[0;36mgenerate_from_frequencies\u001b[0;34m(self, frequencies, max_font_size)\u001b[0m\n\u001b[1;32m    451\u001b[0m                 \u001b[0mfont_size\u001b[0m \u001b[0;34m=\u001b[0m \u001b[0mself\u001b[0m\u001b[0;34m.\u001b[0m\u001b[0mheight\u001b[0m\u001b[0;34m\u001b[0m\u001b[0;34m\u001b[0m\u001b[0m\n\u001b[1;32m    452\u001b[0m             \u001b[0;32melse\u001b[0m\u001b[0;34m:\u001b[0m\u001b[0;34m\u001b[0m\u001b[0;34m\u001b[0m\u001b[0m\n\u001b[0;32m--> 453\u001b[0;31m                 self.generate_from_frequencies(dict(frequencies[:2]),\n\u001b[0m\u001b[1;32m    454\u001b[0m                                                max_font_size=self.height)\n\u001b[1;32m    455\u001b[0m                 \u001b[0;31m# find font sizes\u001b[0m\u001b[0;34m\u001b[0m\u001b[0;34m\u001b[0m\u001b[0m\n",
      "\u001b[0;32m/opt/anaconda3/lib/python3.9/site-packages/wordcloud/wordcloud.py\u001b[0m in \u001b[0;36mgenerate_from_frequencies\u001b[0;34m(self, frequencies, max_font_size)\u001b[0m\n\u001b[1;32m    509\u001b[0m                     font, orientation=orientation)\n\u001b[1;32m    510\u001b[0m                 \u001b[0;31m# get size of resulting text\u001b[0m\u001b[0;34m\u001b[0m\u001b[0;34m\u001b[0m\u001b[0m\n\u001b[0;32m--> 511\u001b[0;31m                 \u001b[0mbox_size\u001b[0m \u001b[0;34m=\u001b[0m \u001b[0mdraw\u001b[0m\u001b[0;34m.\u001b[0m\u001b[0mtextbbox\u001b[0m\u001b[0;34m(\u001b[0m\u001b[0;34m(\u001b[0m\u001b[0;36m0\u001b[0m\u001b[0;34m,\u001b[0m \u001b[0;36m0\u001b[0m\u001b[0;34m)\u001b[0m\u001b[0;34m,\u001b[0m \u001b[0mword\u001b[0m\u001b[0;34m,\u001b[0m \u001b[0mfont\u001b[0m\u001b[0;34m=\u001b[0m\u001b[0mtransposed_font\u001b[0m\u001b[0;34m,\u001b[0m \u001b[0manchor\u001b[0m\u001b[0;34m=\u001b[0m\u001b[0;34m\"lt\"\u001b[0m\u001b[0;34m)\u001b[0m\u001b[0;34m\u001b[0m\u001b[0;34m\u001b[0m\u001b[0m\n\u001b[0m\u001b[1;32m    512\u001b[0m                 \u001b[0;31m# find possible places using integral image:\u001b[0m\u001b[0;34m\u001b[0m\u001b[0;34m\u001b[0m\u001b[0m\n\u001b[1;32m    513\u001b[0m                 result = occupancy.sample_position(box_size[3] + self.margin,\n",
      "\u001b[0;32m/opt/anaconda3/lib/python3.9/site-packages/PIL/ImageDraw.py\u001b[0m in \u001b[0;36mtextbbox\u001b[0;34m(self, xy, text, font, anchor, spacing, align, direction, features, language, stroke_width, embedded_color)\u001b[0m\n\u001b[1;32m    649\u001b[0m             \u001b[0mfont\u001b[0m \u001b[0;34m=\u001b[0m \u001b[0mself\u001b[0m\u001b[0;34m.\u001b[0m\u001b[0mgetfont\u001b[0m\u001b[0;34m(\u001b[0m\u001b[0;34m)\u001b[0m\u001b[0;34m\u001b[0m\u001b[0;34m\u001b[0m\u001b[0m\n\u001b[1;32m    650\u001b[0m         \u001b[0;32mif\u001b[0m \u001b[0;32mnot\u001b[0m \u001b[0misinstance\u001b[0m\u001b[0;34m(\u001b[0m\u001b[0mfont\u001b[0m\u001b[0;34m,\u001b[0m \u001b[0mImageFont\u001b[0m\u001b[0;34m.\u001b[0m\u001b[0mFreeTypeFont\u001b[0m\u001b[0;34m)\u001b[0m\u001b[0;34m:\u001b[0m\u001b[0;34m\u001b[0m\u001b[0;34m\u001b[0m\u001b[0m\n\u001b[0;32m--> 651\u001b[0;31m             \u001b[0;32mraise\u001b[0m \u001b[0mValueError\u001b[0m\u001b[0;34m(\u001b[0m\u001b[0;34m\"Only supported for TrueType fonts\"\u001b[0m\u001b[0;34m)\u001b[0m\u001b[0;34m\u001b[0m\u001b[0;34m\u001b[0m\u001b[0m\n\u001b[0m\u001b[1;32m    652\u001b[0m         \u001b[0mmode\u001b[0m \u001b[0;34m=\u001b[0m \u001b[0;34m\"RGBA\"\u001b[0m \u001b[0;32mif\u001b[0m \u001b[0membedded_color\u001b[0m \u001b[0;32melse\u001b[0m \u001b[0mself\u001b[0m\u001b[0;34m.\u001b[0m\u001b[0mfontmode\u001b[0m\u001b[0;34m\u001b[0m\u001b[0;34m\u001b[0m\u001b[0m\n\u001b[1;32m    653\u001b[0m         bbox = font.getbbox(\n",
      "\u001b[0;31mValueError\u001b[0m: Only supported for TrueType fonts"
     ]
    }
   ],
   "source": [
    "from wordcloud import WordCloud\n",
    "# Combine all text data from a specific column or multiple columns\n",
    "text = ' '.join(Athletes['sport'])  # For example, using the 'sport' column\n",
    "\n",
    "# Generate the word cloud\n",
    "wordcloud = WordCloud(width=800, height=400, background_color='white').generate(text)\n",
    "\n",
    "# Display the word cloud using matplotlib\n",
    "plt.figure(figsize=(6, 3))\n",
    "plt.imshow(wordcloud, interpolation='bilinear')\n",
    "plt.axis('off')\n",
    "plt.show()"
   ]
  },
  {
   "cell_type": "code",
   "execution_count": 108,
   "id": "97849e54",
   "metadata": {},
   "outputs": [
    {
     "ename": "ValueError",
     "evalue": "Only supported for TrueType fonts",
     "output_type": "error",
     "traceback": [
      "\u001b[0;31m---------------------------------------------------------------------------\u001b[0m",
      "\u001b[0;31mValueError\u001b[0m                                Traceback (most recent call last)",
      "\u001b[0;32m/var/folders/5w/th17csyd6r14gjdhdkkz0q0h0000gn/T/ipykernel_38801/1081520660.py\u001b[0m in \u001b[0;36m<module>\u001b[0;34m\u001b[0m\n\u001b[1;32m      9\u001b[0m \u001b[0;34m\u001b[0m\u001b[0m\n\u001b[1;32m     10\u001b[0m \u001b[0;31m# Generate the word cloud using the specified font\u001b[0m\u001b[0;34m\u001b[0m\u001b[0;34m\u001b[0m\u001b[0m\n\u001b[0;32m---> 11\u001b[0;31m \u001b[0mwordcloud\u001b[0m \u001b[0;34m=\u001b[0m \u001b[0mWordCloud\u001b[0m\u001b[0;34m(\u001b[0m\u001b[0mwidth\u001b[0m\u001b[0;34m=\u001b[0m\u001b[0;36m800\u001b[0m\u001b[0;34m,\u001b[0m \u001b[0mheight\u001b[0m\u001b[0;34m=\u001b[0m\u001b[0;36m400\u001b[0m\u001b[0;34m,\u001b[0m \u001b[0mbackground_color\u001b[0m\u001b[0;34m=\u001b[0m\u001b[0;34m'white'\u001b[0m\u001b[0;34m,\u001b[0m \u001b[0mfont_path\u001b[0m\u001b[0;34m=\u001b[0m\u001b[0mfont_path\u001b[0m\u001b[0;34m)\u001b[0m\u001b[0;34m.\u001b[0m\u001b[0mgenerate\u001b[0m\u001b[0;34m(\u001b[0m\u001b[0mtext\u001b[0m\u001b[0;34m)\u001b[0m\u001b[0;34m\u001b[0m\u001b[0;34m\u001b[0m\u001b[0m\n\u001b[0m\u001b[1;32m     12\u001b[0m \u001b[0;34m\u001b[0m\u001b[0m\n\u001b[1;32m     13\u001b[0m \u001b[0;31m# Display the word cloud using matplotlib\u001b[0m\u001b[0;34m\u001b[0m\u001b[0;34m\u001b[0m\u001b[0m\n",
      "\u001b[0;32m/opt/anaconda3/lib/python3.9/site-packages/wordcloud/wordcloud.py\u001b[0m in \u001b[0;36mgenerate\u001b[0;34m(self, text)\u001b[0m\n\u001b[1;32m    640\u001b[0m         \u001b[0mself\u001b[0m\u001b[0;34m\u001b[0m\u001b[0;34m\u001b[0m\u001b[0m\n\u001b[1;32m    641\u001b[0m         \"\"\"\n\u001b[0;32m--> 642\u001b[0;31m         \u001b[0;32mreturn\u001b[0m \u001b[0mself\u001b[0m\u001b[0;34m.\u001b[0m\u001b[0mgenerate_from_text\u001b[0m\u001b[0;34m(\u001b[0m\u001b[0mtext\u001b[0m\u001b[0;34m)\u001b[0m\u001b[0;34m\u001b[0m\u001b[0;34m\u001b[0m\u001b[0m\n\u001b[0m\u001b[1;32m    643\u001b[0m \u001b[0;34m\u001b[0m\u001b[0m\n\u001b[1;32m    644\u001b[0m     \u001b[0;32mdef\u001b[0m \u001b[0m_check_generated\u001b[0m\u001b[0;34m(\u001b[0m\u001b[0mself\u001b[0m\u001b[0;34m)\u001b[0m\u001b[0;34m:\u001b[0m\u001b[0;34m\u001b[0m\u001b[0;34m\u001b[0m\u001b[0m\n",
      "\u001b[0;32m/opt/anaconda3/lib/python3.9/site-packages/wordcloud/wordcloud.py\u001b[0m in \u001b[0;36mgenerate_from_text\u001b[0;34m(self, text)\u001b[0m\n\u001b[1;32m    622\u001b[0m         \"\"\"\n\u001b[1;32m    623\u001b[0m         \u001b[0mwords\u001b[0m \u001b[0;34m=\u001b[0m \u001b[0mself\u001b[0m\u001b[0;34m.\u001b[0m\u001b[0mprocess_text\u001b[0m\u001b[0;34m(\u001b[0m\u001b[0mtext\u001b[0m\u001b[0;34m)\u001b[0m\u001b[0;34m\u001b[0m\u001b[0;34m\u001b[0m\u001b[0m\n\u001b[0;32m--> 624\u001b[0;31m         \u001b[0mself\u001b[0m\u001b[0;34m.\u001b[0m\u001b[0mgenerate_from_frequencies\u001b[0m\u001b[0;34m(\u001b[0m\u001b[0mwords\u001b[0m\u001b[0;34m)\u001b[0m\u001b[0;34m\u001b[0m\u001b[0;34m\u001b[0m\u001b[0m\n\u001b[0m\u001b[1;32m    625\u001b[0m         \u001b[0;32mreturn\u001b[0m \u001b[0mself\u001b[0m\u001b[0;34m\u001b[0m\u001b[0;34m\u001b[0m\u001b[0m\n\u001b[1;32m    626\u001b[0m \u001b[0;34m\u001b[0m\u001b[0m\n",
      "\u001b[0;32m/opt/anaconda3/lib/python3.9/site-packages/wordcloud/wordcloud.py\u001b[0m in \u001b[0;36mgenerate_from_frequencies\u001b[0;34m(self, frequencies, max_font_size)\u001b[0m\n\u001b[1;32m    451\u001b[0m                 \u001b[0mfont_size\u001b[0m \u001b[0;34m=\u001b[0m \u001b[0mself\u001b[0m\u001b[0;34m.\u001b[0m\u001b[0mheight\u001b[0m\u001b[0;34m\u001b[0m\u001b[0;34m\u001b[0m\u001b[0m\n\u001b[1;32m    452\u001b[0m             \u001b[0;32melse\u001b[0m\u001b[0;34m:\u001b[0m\u001b[0;34m\u001b[0m\u001b[0;34m\u001b[0m\u001b[0m\n\u001b[0;32m--> 453\u001b[0;31m                 self.generate_from_frequencies(dict(frequencies[:2]),\n\u001b[0m\u001b[1;32m    454\u001b[0m                                                max_font_size=self.height)\n\u001b[1;32m    455\u001b[0m                 \u001b[0;31m# find font sizes\u001b[0m\u001b[0;34m\u001b[0m\u001b[0;34m\u001b[0m\u001b[0m\n",
      "\u001b[0;32m/opt/anaconda3/lib/python3.9/site-packages/wordcloud/wordcloud.py\u001b[0m in \u001b[0;36mgenerate_from_frequencies\u001b[0;34m(self, frequencies, max_font_size)\u001b[0m\n\u001b[1;32m    509\u001b[0m                     font, orientation=orientation)\n\u001b[1;32m    510\u001b[0m                 \u001b[0;31m# get size of resulting text\u001b[0m\u001b[0;34m\u001b[0m\u001b[0;34m\u001b[0m\u001b[0m\n\u001b[0;32m--> 511\u001b[0;31m                 \u001b[0mbox_size\u001b[0m \u001b[0;34m=\u001b[0m \u001b[0mdraw\u001b[0m\u001b[0;34m.\u001b[0m\u001b[0mtextbbox\u001b[0m\u001b[0;34m(\u001b[0m\u001b[0;34m(\u001b[0m\u001b[0;36m0\u001b[0m\u001b[0;34m,\u001b[0m \u001b[0;36m0\u001b[0m\u001b[0;34m)\u001b[0m\u001b[0;34m,\u001b[0m \u001b[0mword\u001b[0m\u001b[0;34m,\u001b[0m \u001b[0mfont\u001b[0m\u001b[0;34m=\u001b[0m\u001b[0mtransposed_font\u001b[0m\u001b[0;34m,\u001b[0m \u001b[0manchor\u001b[0m\u001b[0;34m=\u001b[0m\u001b[0;34m\"lt\"\u001b[0m\u001b[0;34m)\u001b[0m\u001b[0;34m\u001b[0m\u001b[0;34m\u001b[0m\u001b[0m\n\u001b[0m\u001b[1;32m    512\u001b[0m                 \u001b[0;31m# find possible places using integral image:\u001b[0m\u001b[0;34m\u001b[0m\u001b[0;34m\u001b[0m\u001b[0m\n\u001b[1;32m    513\u001b[0m                 result = occupancy.sample_position(box_size[3] + self.margin,\n",
      "\u001b[0;32m/opt/anaconda3/lib/python3.9/site-packages/PIL/ImageDraw.py\u001b[0m in \u001b[0;36mtextbbox\u001b[0;34m(self, xy, text, font, anchor, spacing, align, direction, features, language, stroke_width, embedded_color)\u001b[0m\n\u001b[1;32m    649\u001b[0m             \u001b[0mfont\u001b[0m \u001b[0;34m=\u001b[0m \u001b[0mself\u001b[0m\u001b[0;34m.\u001b[0m\u001b[0mgetfont\u001b[0m\u001b[0;34m(\u001b[0m\u001b[0;34m)\u001b[0m\u001b[0;34m\u001b[0m\u001b[0;34m\u001b[0m\u001b[0m\n\u001b[1;32m    650\u001b[0m         \u001b[0;32mif\u001b[0m \u001b[0;32mnot\u001b[0m \u001b[0misinstance\u001b[0m\u001b[0;34m(\u001b[0m\u001b[0mfont\u001b[0m\u001b[0;34m,\u001b[0m \u001b[0mImageFont\u001b[0m\u001b[0;34m.\u001b[0m\u001b[0mFreeTypeFont\u001b[0m\u001b[0;34m)\u001b[0m\u001b[0;34m:\u001b[0m\u001b[0;34m\u001b[0m\u001b[0;34m\u001b[0m\u001b[0m\n\u001b[0;32m--> 651\u001b[0;31m             \u001b[0;32mraise\u001b[0m \u001b[0mValueError\u001b[0m\u001b[0;34m(\u001b[0m\u001b[0;34m\"Only supported for TrueType fonts\"\u001b[0m\u001b[0;34m)\u001b[0m\u001b[0;34m\u001b[0m\u001b[0;34m\u001b[0m\u001b[0m\n\u001b[0m\u001b[1;32m    652\u001b[0m         \u001b[0mmode\u001b[0m \u001b[0;34m=\u001b[0m \u001b[0;34m\"RGBA\"\u001b[0m \u001b[0;32mif\u001b[0m \u001b[0membedded_color\u001b[0m \u001b[0;32melse\u001b[0m \u001b[0mself\u001b[0m\u001b[0;34m.\u001b[0m\u001b[0mfontmode\u001b[0m\u001b[0;34m\u001b[0m\u001b[0;34m\u001b[0m\u001b[0m\n\u001b[1;32m    653\u001b[0m         bbox = font.getbbox(\n",
      "\u001b[0;31mValueError\u001b[0m: Only supported for TrueType fonts"
     ]
    }
   ],
   "source": [
    "from wordcloud import WordCloud\n",
    "import matplotlib.pyplot as plt\n",
    "\n",
    "# Example text\n",
    "text = \"Here is some sample text to generate a word cloud. Add more words here.\"\n",
    "\n",
    "# Specify the path to a TrueType font file (.ttf)\n",
    "font_path = '/Library/Fonts/Arial.ttf'  # Update this path based on your system\n",
    "\n",
    "# Generate the word cloud using the specified font\n",
    "wordcloud = WordCloud(width=800, height=400, background_color='white', font_path=font_path).generate(text)\n",
    "\n",
    "# Display the word cloud using matplotlib\n",
    "plt.figure(figsize=(10, 5))\n",
    "plt.imshow(wordcloud, interpolation='bilinear')\n",
    "plt.axis('off')\n",
    "plt.show()\n"
   ]
  },
  {
   "cell_type": "markdown",
   "id": "a59ad2c6",
   "metadata": {},
   "source": [
    "Q.35 Create a Regression Plot on Max V02 and mean BMI for any sport of your choice."
   ]
  },
  {
   "cell_type": "code",
   "execution_count": 97,
   "id": "0642d0ff",
   "metadata": {},
   "outputs": [
    {
     "name": "stderr",
     "output_type": "stream",
     "text": [
      "/var/folders/5w/th17csyd6r14gjdhdkkz0q0h0000gn/T/ipykernel_38801/1345124391.py:21: SettingWithCopyWarning: \n",
      "A value is trying to be set on a copy of a slice from a DataFrame.\n",
      "Try using .loc[row_indexer,col_indexer] = value instead\n",
      "\n",
      "See the caveats in the documentation: https://pandas.pydata.org/pandas-docs/stable/user_guide/indexing.html#returning-a-view-versus-a-copy\n",
      "  sport_df['mean_BMI'] = mean_bmi\n"
     ]
    },
    {
     "data": {
      "image/png": "[encoded data removed]",
      "text/plain": [
       "<Figure size 432x288 with 1 Axes>"
      ]
     },
     "metadata": {
      "needs_background": "light"
     },
     "output_type": "display_data"
    }
   ],
   "source": [
    "# Calculating BMI\n",
    "Athletes['BMI'] = round(Athletes['Weight'] / (Athletes['Height'] * 2), 2)\n",
    "Merged_df1 = pd.merge(Merged_df, Athletes, on='ID', how='inner')\n",
    "Athletes['Full Name'] = Athletes['First Name'] + \" \" + Athletes['Last Name']\n",
    "merged_athlete = Athletes.merge(Merged_df, on='ID', how='right')\n",
    "\n",
    "# Calculating total VO2 per athlete\n",
    "total_vo2_per_athlete = merged_athlete.groupby(['ID', 'Full Name', 'sport', 'Weight'])['VO2'].sum()\n",
    "total_vo2_per_athlete = total_vo2_per_athlete.reset_index(name='total vo2')\n",
    "\n",
    "# Calculating VO2 Max\n",
    "total_vo2_per_athlete['VO2 Max'] = total_vo2_per_athlete['total vo2'] / total_vo2_per_athlete['Weight']\n",
    "\n",
    "merged_athlete = merged_athlete.merge(total_vo2_per_athlete[['ID', 'VO2 Max']], on='ID', how='left')\n",
    "\n",
    "# Filter data for the chosen sport\n",
    "sport_df = merged_athlete[merged_athlete['sport'] == 'fencing']\n",
    "\n",
    "#  Calculate the mean BMI\n",
    "mean_bmi = sport_df['BMI'].mean()\n",
    "sport_df['mean_BMI'] = mean_bmi\n",
    "\n",
    "# Plot the regression plot\n",
    "sns.regplot(x='BMI', y='VO2 Max', data=sport_df)\n",
    "\n",
    "# Set title and labels\n",
    "plt.title('Regression Plot on Max VO2 and BMI for Fencing sport')\n",
    "plt.xlabel('BMI')\n",
    "plt.ylabel('VO2 Max')\n",
    "\n",
    "# Display the plot\n",
    "plt.show()"
   ]
  },
  {
   "cell_type": "markdown",
   "id": "31394cc9",
   "metadata": {},
   "source": [
    "Q.36 Plot the time series of HR( every 5 mins) of athlete 1"
   ]
  },
  {
   "cell_type": "code",
   "execution_count": 113,
   "id": "a6427c51",
   "metadata": {},
   "outputs": [
    {
     "data": {
      "image/png": "[encoded data removed]",
      "text/plain": [
       "<Figure size 864x432 with 1 Axes>"
      ]
     },
     "metadata": {
      "needs_background": "light"
     },
     "output_type": "display_data"
    }
   ],
   "source": [
    "\n",
    "df = Merged_df.copy()\n",
    "# Convert 'time' to datetime if it's not already\n",
    "df['time'] = pd.to_datetime(df['time'], unit='s', origin='unix')  # Adjust as needed\n",
    "\n",
    "# Filter data for athlete 1\n",
    "athlete1_df = df[df['ID'] == 1]\n",
    "\n",
    "# Set the 'time' column as the index\n",
    "athlete1_df.set_index('time', inplace=True)\n",
    "\n",
    "# Resample the data to 5-minute intervals and calculate the mean HR\n",
    "resampled_df = athlete1_df['HR'].resample('5T').mean()  # '5T' stands for 5 minutes\n",
    "\n",
    "# Plot the time series\n",
    "plt.figure(figsize=(12, 6))\n",
    "plt.plot(resampled_df.index, resampled_df, marker='o', linestyle='-')\n",
    "plt.title('Heart Rate Time Series for Athlete 1 (5-Minute Intervals)')\n",
    "plt.xlabel('Time')\n",
    "plt.ylabel('Heart Rate (HR)')\n",
    "plt.grid(True)\n",
    "plt.xticks(rotation=45)\n",
    "plt.tight_layout()\n",
    "plt.show()"
   ]
  },
  {
   "cell_type": "markdown",
   "id": "ffe4a99b",
   "metadata": {},
   "source": [
    "Q.37 What was the maximum power achieved in terms of watts, which participant achieved it? Display name, sport and watts."
   ]
  },
  {
   "cell_type": "code",
   "execution_count": 93,
   "id": "f94e09bb",
   "metadata": {},
   "outputs": [
    {
     "name": "stdout",
     "output_type": "stream",
     "text": [
      "        F_Name   L_Name  Sport  Watts\n",
      "3315  Isabella  Griffin  kayak  335.0\n"
     ]
    }
   ],
   "source": [
    "import pandas as pd\n",
    "\n",
    "# Merge the dataframes\n",
    "df = pd.merge(Merged_df, Athletes, on='ID', how='left')\n",
    "\n",
    "# Find the maximum power\n",
    "max_power = df['power'].max()\n",
    "\n",
    "# Find the participant who achieved the maximum power\n",
    "participant = df[df['power'] == max_power]\n",
    "\n",
    "# Display the relevant information\n",
    "result = participant[['First Name', 'Last Name', 'sport', 'power']].drop_duplicates()\n",
    "result.columns = ['F_Name', 'L_Name', 'Sport', 'Watts']\n",
    "\n",
    "# Print the result\n",
    "print(result)"
   ]
  },
  {
   "cell_type": "markdown",
   "id": "40d6d795",
   "metadata": {},
   "source": [
    "Q.38 What is the average  difference in IBI during the warm up Vs the actual test?"
   ]
  },
  {
   "cell_type": "code",
   "execution_count": 91,
   "id": "cef2715b",
   "metadata": {},
   "outputs": [
    {
     "name": "stdout",
     "output_type": "stream",
     "text": [
      "Average IBI during warm-up: -0.01\n",
      "Average IBI during GET: -0.00\n",
      "Difference in average IBI: 0.01\n"
     ]
    },
    {
     "name": "stderr",
     "output_type": "stream",
     "text": [
      "/var/folders/5w/th17csyd6r14gjdhdkkz0q0h0000gn/T/ipykernel_38801/317451703.py:6: SettingWithCopyWarning: \n",
      "A value is trying to be set on a copy of a slice from a DataFrame.\n",
      "Try using .loc[row_indexer,col_indexer] = value instead\n",
      "\n",
      "See the caveats in the documentation: https://pandas.pydata.org/pandas-docs/stable/user_guide/indexing.html#returning-a-view-versus-a-copy\n",
      "  warm_up_df['IBI'] = warm_up_df['RR'].diff().dropna()\n",
      "/var/folders/5w/th17csyd6r14gjdhdkkz0q0h0000gn/T/ipykernel_38801/317451703.py:9: SettingWithCopyWarning: \n",
      "A value is trying to be set on a copy of a slice from a DataFrame.\n",
      "Try using .loc[row_indexer,col_indexer] = value instead\n",
      "\n",
      "See the caveats in the documentation: https://pandas.pydata.org/pandas-docs/stable/user_guide/indexing.html#returning-a-view-versus-a-copy\n",
      "  get_df['IBI'] = get_df['RR'].diff().dropna()\n"
     ]
    }
   ],
   "source": [
    "# Filter the data into warm-up and GET phases\n",
    "warm_up_df = df[df['time'] < 0]\n",
    "get_df = df[df['time'] >= 0]\n",
    "\n",
    "# Calculate IBI for warm-up phase\n",
    "warm_up_df['IBI'] = warm_up_df['RR'].diff().dropna()\n",
    "\n",
    "# Calculate IBI for GET phase\n",
    "get_df['IBI'] = get_df['RR'].diff().dropna()\n",
    "\n",
    "# Calculate average IBI for each phase\n",
    "avg_ibi_warm_up = warm_up_df['IBI'].mean()\n",
    "avg_ibi_get = get_df['IBI'].mean()\n",
    "\n",
    "# Calculate the difference in average IBI\n",
    "avg_ibi_difference = avg_ibi_get - avg_ibi_warm_up\n",
    "\n",
    "# Print results\n",
    "print(f\"Average IBI during warm-up: {avg_ibi_warm_up:.2f}\")\n",
    "print(f\"Average IBI during GET: {avg_ibi_get:.2f}\")\n",
    "print(f\"Difference in average IBI: {avg_ibi_difference:.2f}\")"
   ]
  },
  {
   "cell_type": "markdown",
   "id": "23f80925",
   "metadata": {},
   "source": [
    "Q.39 Print out what's in indexes 7, 10, and 3 for the array. [1, 2, 3, 4, 5,6,7,8,9,10]"
   ]
  },
  {
   "cell_type": "code",
   "execution_count": 25,
   "id": "9b0641dd",
   "metadata": {},
   "outputs": [
    {
     "name": "stdout",
     "output_type": "stream",
     "text": [
      "Value at index 7: 8\n",
      "Value at index 3: 4\n",
      "Index 10 is out of range.\n"
     ]
    }
   ],
   "source": [
    "# Define the array\n",
    "array = [1, 2, 3, 4, 5, 6, 7, 8, 9, 10]\n",
    "\n",
    "# Print values at indexes 7 and 3\n",
    "print(\"Value at index 7:\", array[7])  # 8\n",
    "print(\"Value at index 3:\", array[3])  # 4\n",
    "\n",
    "# Handle out-of-range index\n",
    "try:\n",
    "    print(\"Value at index 10:\", array[10])\n",
    "except IndexError:\n",
    "    print(\"Index 10 is out of range.\")\n"
   ]
  },
  {
   "cell_type": "markdown",
   "id": "734bf8e4",
   "metadata": {},
   "source": [
    "Q.40 \"     [ 1,  2,  3,  4,  5],\n",
    "       [ 6,  7,  8,  9, 10],\n",
    "       [11, 12, 13, 14, 15],\n",
    "       [16, 17, 18, 19, 20],\n",
    "       [21, 22, 23, 24, 25],\n",
    "       [26, 27, 28, 29, 30]  Use array slicing to display elements 1,3,5. If the value is less than 4 display it as 99\""
   ]
  },
  {
   "cell_type": "code",
   "execution_count": 26,
   "id": "db6b13a6",
   "metadata": {},
   "outputs": [
    {
     "name": "stdout",
     "output_type": "stream",
     "text": [
      "Selected elements with values less than 4 replaced by 99: [99 99  5]\n"
     ]
    }
   ],
   "source": [
    "# Define the array\n",
    "array = np.array([\n",
    "    [1, 2, 3, 4, 5],\n",
    "    [6, 7, 8, 9, 10],\n",
    "    [11, 12, 13, 14, 15],\n",
    "    [16, 17, 18, 19, 20],\n",
    "    [21, 22, 23, 24, 25],\n",
    "    [26, 27, 28, 29, 30]\n",
    "])\n",
    "\n",
    "# Select the first row and pick elements 1, 3, 5 (indexes 0, 2, 4)\n",
    "selected_elements = array[0, [0, 2, 4]]\n",
    "\n",
    "# Replace values less than 4 with 99\n",
    "selected_elements[selected_elements < 4] = 99\n",
    "\n",
    "# Display the result\n",
    "print(\"Selected elements with values less than 4 replaced by 99:\", selected_elements)\n"
   ]
  },
  {
   "cell_type": "markdown",
   "id": "983257fb",
   "metadata": {},
   "source": [
    "Q.41 What was lowest wattage achieved at the end of a test and by which participant? Display name, sport and watts."
   ]
  },
  {
   "cell_type": "code",
   "execution_count": 92,
   "id": "96bcc714",
   "metadata": {},
   "outputs": [
    {
     "name": "stdout",
     "output_type": "stream",
     "text": [
      "Participant with the lowest wattage:\n",
      "FirstName: Isabella\n",
      "Sport: kayak\n",
      "Power: 0.0\n"
     ]
    }
   ],
   "source": [
    "Merged_df=[Kayaking,Triathlon,Fencing]\n",
    "Merged_df=pd.merge(Kayaking,Triathlon,how='outer').merge(Fencing,how='outer')\n",
    "df = pd.merge(Merged_df, Athletes, on='ID', how='outer')\n",
    "\n",
    "\n",
    "# Find the row with the minimum wattage\n",
    "min_watt_row = df.loc[df['power'].idxmin()]\n",
    "\n",
    "# Extract the relevant information\n",
    "name = min_watt_row['First Name']\n",
    "sport = min_watt_row['sport']\n",
    "power = min_watt_row['power']\n",
    "\n",
    "# Display the result\n",
    "print(f\"Participant with the lowest wattage:\\nFirstName: {name}\\nSport: {sport}\\nPower: {power}\")"
   ]
  },
  {
   "cell_type": "markdown",
   "id": "f2b44e3d",
   "metadata": {},
   "source": [
    "Q.42 What was the difference in heart rate between warm up and GET for athlete 1"
   ]
  },
  {
   "cell_type": "code",
   "execution_count": 101,
   "id": "00a045ed",
   "metadata": {},
   "outputs": [
    {
     "name": "stdout",
     "output_type": "stream",
     "text": [
      "The difference in heart rate between the warm-up and GET phases for athlete 1 is -371.20 bpm.\n"
     ]
    }
   ],
   "source": [
    "#  Filtering the data for athlete 1\n",
    "athlete_1_data = Merged_df[Merged_df['ID'] == 1]\n",
    "# Identify Warm-up and GET phases\n",
    "warm_up_data = athlete_1_data[athlete_1_data['time'] < 0]  \n",
    "get_data = athlete_1_data[athlete_1_data['time'] >= 0]     \n",
    "\n",
    "#  Calculating the average HR for each phase\n",
    "avg_hr_warm_up = warm_up_data['RR'].mean()\n",
    "avg_hr_get = get_data['RR'].mean()\n",
    "\n",
    "# Step 4: Compute the difference in HR between GET and Warm-up\n",
    "hr_difference = avg_hr_get - avg_hr_warm_up\n",
    "\n",
    "# Display the result\n",
    "print(f\"The difference in heart rate between the warm-up and GET phases for athlete 1 is {hr_difference:.2f} bpm.\")"
   ]
  },
  {
   "cell_type": "markdown",
   "id": "8fa599bc",
   "metadata": {},
   "source": [
    "Q.43 Create a pivot table that shows count of patients within each age group and sport"
   ]
  },
  {
   "cell_type": "code",
   "execution_count": 29,
   "id": "4a2c0bae",
   "metadata": {},
   "outputs": [
    {
     "name": "stdout",
     "output_type": "stream",
     "text": [
      "sport      fencing  kayak  triathlon\n",
      "age_group                           \n",
      "12-14            2      2          2\n",
      "15-17            6      1          0\n",
      "17-18            2      3          0\n"
     ]
    }
   ],
   "source": [
    "\n",
    "# Defining age groups \n",
    "def age_cat(age):\n",
    "    if age < 15:\n",
    "        return '12-14'\n",
    "    elif 15 <= age < 17:\n",
    "        return '15-17'\n",
    "    else:\n",
    "        return '17-18'\n",
    "\n",
    "# Apply the categorization\n",
    "Athletes['age_group'] = Athletes['age'].apply(age_cat)\n",
    "# Create a pivot table\n",
    "pivot_table = pd.pivot_table(Athletes, index='age_group', columns='sport', aggfunc='size', fill_value=0)\n",
    "\n",
    "\n",
    "\n",
    "# Display the pivot table\n",
    "print(pivot_table)\n"
   ]
  },
  {
   "cell_type": "markdown",
   "id": "5e14b0d5",
   "metadata": {},
   "source": [
    "Q.44 Display a  distrubution chart of MAX V02 for all athletes"
   ]
  },
  {
   "cell_type": "code",
   "execution_count": 102,
   "id": "bfb4b41b",
   "metadata": {},
   "outputs": [
    {
     "data": {
      "image/png": "[encoded data removed]",
      "text/plain": [
       "<Figure size 576x288 with 1 Axes>"
      ]
     },
     "metadata": {
      "needs_background": "light"
     },
     "output_type": "display_data"
    }
   ],
   "source": [
    "# Plot the distribution of VO2 max\n",
    "plt.figure(figsize=(8, 4))\n",
    "sns.histplot(Merged_df['VO2'], bins=20, kde=True)\n",
    "\n",
    "# Step 2: Customize the plot\n",
    "plt.title('Distribution of VO2 Max for All Athletes')\n",
    "plt.xlabel('VO2 Max (ml/kg/min)')\n",
    "plt.ylabel('Count')\n",
    "plt.grid(True)\n",
    "\n",
    "# Step 3: Display the plot\n",
    "plt.show()\n"
   ]
  },
  {
   "cell_type": "markdown",
   "id": "ce413e3a",
   "metadata": {},
   "source": [
    "Q.45 Create a dummy array with no data with a size of 15."
   ]
  },
  {
   "cell_type": "code",
   "execution_count": 30,
   "id": "182586e2",
   "metadata": {},
   "outputs": [
    {
     "data": {
      "text/plain": [
       "array([0., 0., 0., 0., 0., 0., 0., 0., 0., 0., 0., 0., 0., 0., 0.])"
      ]
     },
     "execution_count": 30,
     "metadata": {},
     "output_type": "execute_result"
    }
   ],
   "source": [
    "import numpy as np\n",
    "\n",
    "# Create a dummy array of size 15 filled with zeros\n",
    "dummy_array = np.zeros(15)\n",
    "\n",
    "dummy_array\n"
   ]
  },
  {
   "cell_type": "markdown",
   "id": "7d3746fb",
   "metadata": {},
   "source": [
    "Q.46 How many minutes did participant 15s exercise last and what was the total V02 max consumed during the test?"
   ]
  },
  {
   "cell_type": "code",
   "execution_count": 103,
   "id": "8c324aff",
   "metadata": {},
   "outputs": [
    {
     "name": "stdout",
     "output_type": "stream",
     "text": [
      "Participant 15 exercised for 19.88 minutes.\n",
      "The total VO2 max consumed during the test was 4250.44 ml/kg.\n"
     ]
    }
   ],
   "source": [
    "# Filtering the data for participant 15\n",
    "athlete_15_data = Merged_df[Merged_df['ID'] == 15]\n",
    "\n",
    "# Calculating exercise duration in minutes\n",
    "exercise_duration_seconds = athlete_15_data['time'].max() - athlete_15_data['time'].min()\n",
    "exercise_duration_minutes = exercise_duration_seconds / 60\n",
    "\n",
    "# Calculating total VO2 max consumed during the test\n",
    "total_vo2_max = athlete_15_data['VO2'].sum()\n",
    "print(f\"Participant 15 exercised for {exercise_duration_minutes:.2f} minutes.\")\n",
    "print(f\"The total VO2 max consumed during the test was {total_vo2_max:.2f} ml/kg.\")\n"
   ]
  },
  {
   "cell_type": "markdown",
   "id": "7c411908",
   "metadata": {},
   "source": [
    "Q.47 Convert ' sport' into a numeric field through Label encoding"
   ]
  },
  {
   "cell_type": "code",
   "execution_count": 31,
   "id": "24438b9b",
   "metadata": {},
   "outputs": [
    {
     "name": "stdout",
     "output_type": "stream",
     "text": [
      "Requirement already satisfied: scikit-learn in /opt/anaconda3/lib/python3.9/site-packages (0.24.2)\n",
      "Requirement already satisfied: numpy>=1.13.3 in /opt/anaconda3/lib/python3.9/site-packages (from scikit-learn) (1.20.3)\n",
      "Requirement already satisfied: joblib>=0.11 in /opt/anaconda3/lib/python3.9/site-packages (from scikit-learn) (1.0.1)\n",
      "Requirement already satisfied: scipy>=0.19.1 in /opt/anaconda3/lib/python3.9/site-packages (from scikit-learn) (1.7.1)\n",
      "Requirement already satisfied: threadpoolctl>=2.0.0 in /opt/anaconda3/lib/python3.9/site-packages (from scikit-learn) (2.2.0)\n",
      "Note: you may need to restart the kernel to use updated packages.\n"
     ]
    }
   ],
   "source": [
    "pip install scikit-learn"
   ]
  },
  {
   "cell_type": "code",
   "execution_count": 33,
   "id": "9030a8d5",
   "metadata": {},
   "outputs": [
    {
     "name": "stdout",
     "output_type": "stream",
     "text": [
      "Label Encoding Mapping: {'fencing': 0, 'kayak': 1, 'triathlon': 2}\n",
      "      id   age  weight  height  p_vt1  p_vt2      sport  gender ethnicity  \\\n",
      "0    1.0  15.0    53.7   161.0   50.0  140.0    fencing  Female   African   \n",
      "1    2.0  15.0    56.2   162.0   80.0  127.0    fencing    Male   African   \n",
      "2    3.0  16.0    89.9   191.0  155.0  300.0    fencing    Male     White   \n",
      "3    4.0  16.0    76.5   180.0  215.0  275.0    fencing    Male     White   \n",
      "4    5.0  17.0    76.4   186.0  110.0  172.0    fencing  Female     White   \n",
      "5    6.0  17.0    65.6   169.0  131.0  186.0    fencing  Female     White   \n",
      "6    7.0  15.0    49.8   165.0   65.0  108.0    fencing  Female     White   \n",
      "7    8.0  15.0    51.2   165.0   80.0  133.0    fencing  Female     White   \n",
      "8    9.0  14.0    57.1   176.0   50.0  125.0    fencing  Female   African   \n",
      "9   10.0  14.0    58.8   177.0  101.0  162.0    fencing  Female   African   \n",
      "10  11.0  18.0    84.8   182.0  174.0  268.0      kayak  Female   African   \n",
      "11  12.0  18.0    86.0   183.0  170.0  294.0      kayak    Male   African   \n",
      "12  13.0  18.0    83.9   183.0  144.0  267.0      kayak  Female     Asian   \n",
      "13  14.0  13.0    62.3   171.0  140.0  170.0      kayak  Female     Asian   \n",
      "14  15.0  13.0    63.5   172.0  125.0  156.0      kayak    Male    Latino   \n",
      "15  16.0  16.0    70.4   182.0   79.0  175.0      kayak    Male    Latino   \n",
      "16  17.0  12.0    39.9   156.0  101.0  145.0  triathlon    Male    Latino   \n",
      "17  18.0  12.0    39.7   158.0   65.0  168.0  triathlon    Male    Latino   \n",
      "\n",
      "   first name  last name  time  rr  power  vo2 age_group  sport_encoded  \n",
      "0      Olivia   Martinez   NaN NaN    NaN  NaN     15-17              0  \n",
      "1       Ethan   Reynolds   NaN NaN    NaN  NaN     15-17              0  \n",
      "2     Jackson     Harper   NaN NaN    NaN  NaN     15-17              0  \n",
      "3        Liam    Sanchez   NaN NaN    NaN  NaN     15-17              0  \n",
      "4         Ava   Thompson   NaN NaN    NaN  NaN     17-18              0  \n",
      "5      Sophia  Rodriguez   NaN NaN    NaN  NaN     17-18              0  \n",
      "6       Grace    Simmons   NaN NaN    NaN  NaN     15-17              0  \n",
      "7       Aiden    Bennett   NaN NaN    NaN  NaN     15-17              0  \n",
      "8       Chloe      Price   NaN NaN    NaN  NaN     12-14              0  \n",
      "9        Lily     Jordan   NaN NaN    NaN  NaN     12-14              0  \n",
      "10   Isabella    Griffin   NaN NaN    NaN  NaN     17-18              1  \n",
      "11      Caleb      Dixon   NaN NaN    NaN  NaN     17-18              1  \n",
      "12        Mia  Carpenter   NaN NaN    NaN  NaN     17-18              1  \n",
      "13     Harper   Mitchell   NaN NaN    NaN  NaN     12-14              1  \n",
      "14      Mason    Wallace   NaN NaN    NaN  NaN     12-14              1  \n",
      "15      Logan   Anderson   NaN NaN    NaN  NaN     15-17              1  \n",
      "16      Lucas     Foster   NaN NaN    NaN  NaN     12-14              2  \n",
      "17       Owen      Myers   NaN NaN    NaN  NaN     12-14              2  \n"
     ]
    }
   ],
   "source": [
    "import pandas as pd\n",
    "from sklearn.preprocessing import LabelEncoder\n",
    "\n",
    "# Initialize LabelEncoder\n",
    "label_encoder = LabelEncoder()\n",
    "\n",
    "# Fit and transform the 'sport' column in the Athletes DataFrame\n",
    "Athletes['sport_encoded'] = label_encoder.fit_transform(Athletes['sport'])\n",
    "\n",
    "# Create a mapping of the original sports to their encoded labels\n",
    "label_mapping = dict(zip(label_encoder.classes_, label_encoder.transform(label_encoder.classes_)))\n",
    "print(f\"Label Encoding Mapping: {label_mapping}\")\n",
    "\n",
    "# Display the DataFrame with the new encoded column\n",
    "print(Athletes)\n"
   ]
  },
  {
   "cell_type": "code",
   "execution_count": 34,
   "id": "6da77bee",
   "metadata": {},
   "outputs": [
    {
     "data": {
      "text/html": [
       "<div>\n",
       "<style scoped>\n",
       "    .dataframe tbody tr th:only-of-type {\n",
       "        vertical-align: middle;\n",
       "    }\n",
       "\n",
       "    .dataframe tbody tr th {\n",
       "        vertical-align: top;\n",
       "    }\n",
       "\n",
       "    .dataframe thead th {\n",
       "        text-align: right;\n",
       "    }\n",
       "</style>\n",
       "<table border=\"1\" class=\"dataframe\">\n",
       "  <thead>\n",
       "    <tr style=\"text-align: right;\">\n",
       "      <th></th>\n",
       "      <th>id</th>\n",
       "      <th>age</th>\n",
       "      <th>weight</th>\n",
       "      <th>height</th>\n",
       "      <th>p_vt1</th>\n",
       "      <th>p_vt2</th>\n",
       "      <th>sport</th>\n",
       "      <th>gender</th>\n",
       "      <th>ethnicity</th>\n",
       "      <th>first name</th>\n",
       "      <th>last name</th>\n",
       "      <th>time</th>\n",
       "      <th>rr</th>\n",
       "      <th>power</th>\n",
       "      <th>vo2</th>\n",
       "      <th>age_group</th>\n",
       "      <th>sport_encoded</th>\n",
       "    </tr>\n",
       "  </thead>\n",
       "  <tbody>\n",
       "    <tr>\n",
       "      <th>0</th>\n",
       "      <td>1.0</td>\n",
       "      <td>15.0</td>\n",
       "      <td>53.7</td>\n",
       "      <td>161.0</td>\n",
       "      <td>50.0</td>\n",
       "      <td>140.0</td>\n",
       "      <td>fencing</td>\n",
       "      <td>Female</td>\n",
       "      <td>African</td>\n",
       "      <td>Olivia</td>\n",
       "      <td>Martinez</td>\n",
       "      <td>NaN</td>\n",
       "      <td>NaN</td>\n",
       "      <td>NaN</td>\n",
       "      <td>NaN</td>\n",
       "      <td>15-17</td>\n",
       "      <td>0</td>\n",
       "    </tr>\n",
       "    <tr>\n",
       "      <th>1</th>\n",
       "      <td>2.0</td>\n",
       "      <td>15.0</td>\n",
       "      <td>56.2</td>\n",
       "      <td>162.0</td>\n",
       "      <td>80.0</td>\n",
       "      <td>127.0</td>\n",
       "      <td>fencing</td>\n",
       "      <td>Male</td>\n",
       "      <td>African</td>\n",
       "      <td>Ethan</td>\n",
       "      <td>Reynolds</td>\n",
       "      <td>NaN</td>\n",
       "      <td>NaN</td>\n",
       "      <td>NaN</td>\n",
       "      <td>NaN</td>\n",
       "      <td>15-17</td>\n",
       "      <td>0</td>\n",
       "    </tr>\n",
       "    <tr>\n",
       "      <th>2</th>\n",
       "      <td>3.0</td>\n",
       "      <td>16.0</td>\n",
       "      <td>89.9</td>\n",
       "      <td>191.0</td>\n",
       "      <td>155.0</td>\n",
       "      <td>300.0</td>\n",
       "      <td>fencing</td>\n",
       "      <td>Male</td>\n",
       "      <td>White</td>\n",
       "      <td>Jackson</td>\n",
       "      <td>Harper</td>\n",
       "      <td>NaN</td>\n",
       "      <td>NaN</td>\n",
       "      <td>NaN</td>\n",
       "      <td>NaN</td>\n",
       "      <td>15-17</td>\n",
       "      <td>0</td>\n",
       "    </tr>\n",
       "    <tr>\n",
       "      <th>3</th>\n",
       "      <td>4.0</td>\n",
       "      <td>16.0</td>\n",
       "      <td>76.5</td>\n",
       "      <td>180.0</td>\n",
       "      <td>215.0</td>\n",
       "      <td>275.0</td>\n",
       "      <td>fencing</td>\n",
       "      <td>Male</td>\n",
       "      <td>White</td>\n",
       "      <td>Liam</td>\n",
       "      <td>Sanchez</td>\n",
       "      <td>NaN</td>\n",
       "      <td>NaN</td>\n",
       "      <td>NaN</td>\n",
       "      <td>NaN</td>\n",
       "      <td>15-17</td>\n",
       "      <td>0</td>\n",
       "    </tr>\n",
       "    <tr>\n",
       "      <th>4</th>\n",
       "      <td>5.0</td>\n",
       "      <td>17.0</td>\n",
       "      <td>76.4</td>\n",
       "      <td>186.0</td>\n",
       "      <td>110.0</td>\n",
       "      <td>172.0</td>\n",
       "      <td>fencing</td>\n",
       "      <td>Female</td>\n",
       "      <td>White</td>\n",
       "      <td>Ava</td>\n",
       "      <td>Thompson</td>\n",
       "      <td>NaN</td>\n",
       "      <td>NaN</td>\n",
       "      <td>NaN</td>\n",
       "      <td>NaN</td>\n",
       "      <td>17-18</td>\n",
       "      <td>0</td>\n",
       "    </tr>\n",
       "    <tr>\n",
       "      <th>5</th>\n",
       "      <td>6.0</td>\n",
       "      <td>17.0</td>\n",
       "      <td>65.6</td>\n",
       "      <td>169.0</td>\n",
       "      <td>131.0</td>\n",
       "      <td>186.0</td>\n",
       "      <td>fencing</td>\n",
       "      <td>Female</td>\n",
       "      <td>White</td>\n",
       "      <td>Sophia</td>\n",
       "      <td>Rodriguez</td>\n",
       "      <td>NaN</td>\n",
       "      <td>NaN</td>\n",
       "      <td>NaN</td>\n",
       "      <td>NaN</td>\n",
       "      <td>17-18</td>\n",
       "      <td>0</td>\n",
       "    </tr>\n",
       "    <tr>\n",
       "      <th>6</th>\n",
       "      <td>7.0</td>\n",
       "      <td>15.0</td>\n",
       "      <td>49.8</td>\n",
       "      <td>165.0</td>\n",
       "      <td>65.0</td>\n",
       "      <td>108.0</td>\n",
       "      <td>fencing</td>\n",
       "      <td>Female</td>\n",
       "      <td>White</td>\n",
       "      <td>Grace</td>\n",
       "      <td>Simmons</td>\n",
       "      <td>NaN</td>\n",
       "      <td>NaN</td>\n",
       "      <td>NaN</td>\n",
       "      <td>NaN</td>\n",
       "      <td>15-17</td>\n",
       "      <td>0</td>\n",
       "    </tr>\n",
       "    <tr>\n",
       "      <th>7</th>\n",
       "      <td>8.0</td>\n",
       "      <td>15.0</td>\n",
       "      <td>51.2</td>\n",
       "      <td>165.0</td>\n",
       "      <td>80.0</td>\n",
       "      <td>133.0</td>\n",
       "      <td>fencing</td>\n",
       "      <td>Female</td>\n",
       "      <td>White</td>\n",
       "      <td>Aiden</td>\n",
       "      <td>Bennett</td>\n",
       "      <td>NaN</td>\n",
       "      <td>NaN</td>\n",
       "      <td>NaN</td>\n",
       "      <td>NaN</td>\n",
       "      <td>15-17</td>\n",
       "      <td>0</td>\n",
       "    </tr>\n",
       "    <tr>\n",
       "      <th>8</th>\n",
       "      <td>9.0</td>\n",
       "      <td>14.0</td>\n",
       "      <td>57.1</td>\n",
       "      <td>176.0</td>\n",
       "      <td>50.0</td>\n",
       "      <td>125.0</td>\n",
       "      <td>fencing</td>\n",
       "      <td>Female</td>\n",
       "      <td>African</td>\n",
       "      <td>Chloe</td>\n",
       "      <td>Price</td>\n",
       "      <td>NaN</td>\n",
       "      <td>NaN</td>\n",
       "      <td>NaN</td>\n",
       "      <td>NaN</td>\n",
       "      <td>12-14</td>\n",
       "      <td>0</td>\n",
       "    </tr>\n",
       "    <tr>\n",
       "      <th>9</th>\n",
       "      <td>10.0</td>\n",
       "      <td>14.0</td>\n",
       "      <td>58.8</td>\n",
       "      <td>177.0</td>\n",
       "      <td>101.0</td>\n",
       "      <td>162.0</td>\n",
       "      <td>fencing</td>\n",
       "      <td>Female</td>\n",
       "      <td>African</td>\n",
       "      <td>Lily</td>\n",
       "      <td>Jordan</td>\n",
       "      <td>NaN</td>\n",
       "      <td>NaN</td>\n",
       "      <td>NaN</td>\n",
       "      <td>NaN</td>\n",
       "      <td>12-14</td>\n",
       "      <td>0</td>\n",
       "    </tr>\n",
       "    <tr>\n",
       "      <th>10</th>\n",
       "      <td>11.0</td>\n",
       "      <td>18.0</td>\n",
       "      <td>84.8</td>\n",
       "      <td>182.0</td>\n",
       "      <td>174.0</td>\n",
       "      <td>268.0</td>\n",
       "      <td>kayak</td>\n",
       "      <td>Female</td>\n",
       "      <td>African</td>\n",
       "      <td>Isabella</td>\n",
       "      <td>Griffin</td>\n",
       "      <td>NaN</td>\n",
       "      <td>NaN</td>\n",
       "      <td>NaN</td>\n",
       "      <td>NaN</td>\n",
       "      <td>17-18</td>\n",
       "      <td>1</td>\n",
       "    </tr>\n",
       "    <tr>\n",
       "      <th>11</th>\n",
       "      <td>12.0</td>\n",
       "      <td>18.0</td>\n",
       "      <td>86.0</td>\n",
       "      <td>183.0</td>\n",
       "      <td>170.0</td>\n",
       "      <td>294.0</td>\n",
       "      <td>kayak</td>\n",
       "      <td>Male</td>\n",
       "      <td>African</td>\n",
       "      <td>Caleb</td>\n",
       "      <td>Dixon</td>\n",
       "      <td>NaN</td>\n",
       "      <td>NaN</td>\n",
       "      <td>NaN</td>\n",
       "      <td>NaN</td>\n",
       "      <td>17-18</td>\n",
       "      <td>1</td>\n",
       "    </tr>\n",
       "    <tr>\n",
       "      <th>12</th>\n",
       "      <td>13.0</td>\n",
       "      <td>18.0</td>\n",
       "      <td>83.9</td>\n",
       "      <td>183.0</td>\n",
       "      <td>144.0</td>\n",
       "      <td>267.0</td>\n",
       "      <td>kayak</td>\n",
       "      <td>Female</td>\n",
       "      <td>Asian</td>\n",
       "      <td>Mia</td>\n",
       "      <td>Carpenter</td>\n",
       "      <td>NaN</td>\n",
       "      <td>NaN</td>\n",
       "      <td>NaN</td>\n",
       "      <td>NaN</td>\n",
       "      <td>17-18</td>\n",
       "      <td>1</td>\n",
       "    </tr>\n",
       "    <tr>\n",
       "      <th>13</th>\n",
       "      <td>14.0</td>\n",
       "      <td>13.0</td>\n",
       "      <td>62.3</td>\n",
       "      <td>171.0</td>\n",
       "      <td>140.0</td>\n",
       "      <td>170.0</td>\n",
       "      <td>kayak</td>\n",
       "      <td>Female</td>\n",
       "      <td>Asian</td>\n",
       "      <td>Harper</td>\n",
       "      <td>Mitchell</td>\n",
       "      <td>NaN</td>\n",
       "      <td>NaN</td>\n",
       "      <td>NaN</td>\n",
       "      <td>NaN</td>\n",
       "      <td>12-14</td>\n",
       "      <td>1</td>\n",
       "    </tr>\n",
       "    <tr>\n",
       "      <th>14</th>\n",
       "      <td>15.0</td>\n",
       "      <td>13.0</td>\n",
       "      <td>63.5</td>\n",
       "      <td>172.0</td>\n",
       "      <td>125.0</td>\n",
       "      <td>156.0</td>\n",
       "      <td>kayak</td>\n",
       "      <td>Male</td>\n",
       "      <td>Latino</td>\n",
       "      <td>Mason</td>\n",
       "      <td>Wallace</td>\n",
       "      <td>NaN</td>\n",
       "      <td>NaN</td>\n",
       "      <td>NaN</td>\n",
       "      <td>NaN</td>\n",
       "      <td>12-14</td>\n",
       "      <td>1</td>\n",
       "    </tr>\n",
       "    <tr>\n",
       "      <th>15</th>\n",
       "      <td>16.0</td>\n",
       "      <td>16.0</td>\n",
       "      <td>70.4</td>\n",
       "      <td>182.0</td>\n",
       "      <td>79.0</td>\n",
       "      <td>175.0</td>\n",
       "      <td>kayak</td>\n",
       "      <td>Male</td>\n",
       "      <td>Latino</td>\n",
       "      <td>Logan</td>\n",
       "      <td>Anderson</td>\n",
       "      <td>NaN</td>\n",
       "      <td>NaN</td>\n",
       "      <td>NaN</td>\n",
       "      <td>NaN</td>\n",
       "      <td>15-17</td>\n",
       "      <td>1</td>\n",
       "    </tr>\n",
       "    <tr>\n",
       "      <th>16</th>\n",
       "      <td>17.0</td>\n",
       "      <td>12.0</td>\n",
       "      <td>39.9</td>\n",
       "      <td>156.0</td>\n",
       "      <td>101.0</td>\n",
       "      <td>145.0</td>\n",
       "      <td>triathlon</td>\n",
       "      <td>Male</td>\n",
       "      <td>Latino</td>\n",
       "      <td>Lucas</td>\n",
       "      <td>Foster</td>\n",
       "      <td>NaN</td>\n",
       "      <td>NaN</td>\n",
       "      <td>NaN</td>\n",
       "      <td>NaN</td>\n",
       "      <td>12-14</td>\n",
       "      <td>2</td>\n",
       "    </tr>\n",
       "    <tr>\n",
       "      <th>17</th>\n",
       "      <td>18.0</td>\n",
       "      <td>12.0</td>\n",
       "      <td>39.7</td>\n",
       "      <td>158.0</td>\n",
       "      <td>65.0</td>\n",
       "      <td>168.0</td>\n",
       "      <td>triathlon</td>\n",
       "      <td>Male</td>\n",
       "      <td>Latino</td>\n",
       "      <td>Owen</td>\n",
       "      <td>Myers</td>\n",
       "      <td>NaN</td>\n",
       "      <td>NaN</td>\n",
       "      <td>NaN</td>\n",
       "      <td>NaN</td>\n",
       "      <td>12-14</td>\n",
       "      <td>2</td>\n",
       "    </tr>\n",
       "  </tbody>\n",
       "</table>\n",
       "</div>"
      ],
      "text/plain": [
       "      id   age  weight  height  p_vt1  p_vt2      sport  gender ethnicity  \\\n",
       "0    1.0  15.0    53.7   161.0   50.0  140.0    fencing  Female   African   \n",
       "1    2.0  15.0    56.2   162.0   80.0  127.0    fencing    Male   African   \n",
       "2    3.0  16.0    89.9   191.0  155.0  300.0    fencing    Male     White   \n",
       "3    4.0  16.0    76.5   180.0  215.0  275.0    fencing    Male     White   \n",
       "4    5.0  17.0    76.4   186.0  110.0  172.0    fencing  Female     White   \n",
       "5    6.0  17.0    65.6   169.0  131.0  186.0    fencing  Female     White   \n",
       "6    7.0  15.0    49.8   165.0   65.0  108.0    fencing  Female     White   \n",
       "7    8.0  15.0    51.2   165.0   80.0  133.0    fencing  Female     White   \n",
       "8    9.0  14.0    57.1   176.0   50.0  125.0    fencing  Female   African   \n",
       "9   10.0  14.0    58.8   177.0  101.0  162.0    fencing  Female   African   \n",
       "10  11.0  18.0    84.8   182.0  174.0  268.0      kayak  Female   African   \n",
       "11  12.0  18.0    86.0   183.0  170.0  294.0      kayak    Male   African   \n",
       "12  13.0  18.0    83.9   183.0  144.0  267.0      kayak  Female     Asian   \n",
       "13  14.0  13.0    62.3   171.0  140.0  170.0      kayak  Female     Asian   \n",
       "14  15.0  13.0    63.5   172.0  125.0  156.0      kayak    Male    Latino   \n",
       "15  16.0  16.0    70.4   182.0   79.0  175.0      kayak    Male    Latino   \n",
       "16  17.0  12.0    39.9   156.0  101.0  145.0  triathlon    Male    Latino   \n",
       "17  18.0  12.0    39.7   158.0   65.0  168.0  triathlon    Male    Latino   \n",
       "\n",
       "   first name  last name  time  rr  power  vo2 age_group  sport_encoded  \n",
       "0      Olivia   Martinez   NaN NaN    NaN  NaN     15-17              0  \n",
       "1       Ethan   Reynolds   NaN NaN    NaN  NaN     15-17              0  \n",
       "2     Jackson     Harper   NaN NaN    NaN  NaN     15-17              0  \n",
       "3        Liam    Sanchez   NaN NaN    NaN  NaN     15-17              0  \n",
       "4         Ava   Thompson   NaN NaN    NaN  NaN     17-18              0  \n",
       "5      Sophia  Rodriguez   NaN NaN    NaN  NaN     17-18              0  \n",
       "6       Grace    Simmons   NaN NaN    NaN  NaN     15-17              0  \n",
       "7       Aiden    Bennett   NaN NaN    NaN  NaN     15-17              0  \n",
       "8       Chloe      Price   NaN NaN    NaN  NaN     12-14              0  \n",
       "9        Lily     Jordan   NaN NaN    NaN  NaN     12-14              0  \n",
       "10   Isabella    Griffin   NaN NaN    NaN  NaN     17-18              1  \n",
       "11      Caleb      Dixon   NaN NaN    NaN  NaN     17-18              1  \n",
       "12        Mia  Carpenter   NaN NaN    NaN  NaN     17-18              1  \n",
       "13     Harper   Mitchell   NaN NaN    NaN  NaN     12-14              1  \n",
       "14      Mason    Wallace   NaN NaN    NaN  NaN     12-14              1  \n",
       "15      Logan   Anderson   NaN NaN    NaN  NaN     15-17              1  \n",
       "16      Lucas     Foster   NaN NaN    NaN  NaN     12-14              2  \n",
       "17       Owen      Myers   NaN NaN    NaN  NaN     12-14              2  "
      ]
     },
     "execution_count": 34,
     "metadata": {},
     "output_type": "execute_result"
    }
   ],
   "source": [
    "Athletes"
   ]
  },
  {
   "cell_type": "markdown",
   "id": "61b5fa58",
   "metadata": {},
   "source": [
    "Q.48 What was the average age of the athletes?"
   ]
  },
  {
   "cell_type": "code",
   "execution_count": 35,
   "id": "64edc5e1",
   "metadata": {},
   "outputs": [
    {
     "name": "stdout",
     "output_type": "stream",
     "text": [
      "Average_age is 15.222222222222221\n"
     ]
    }
   ],
   "source": [
    "\n",
    "# Calculate the average age\n",
    "average_age = Athletes['age'].mean()\n",
    "\n",
    "print(\"Average_age is\", average_age )\n"
   ]
  },
  {
   "cell_type": "code",
   "execution_count": null,
   "id": "a1b29dff",
   "metadata": {},
   "outputs": [],
   "source": []
  }
 ],
 "metadata": {
  "kernelspec": {
   "display_name": "Python 3 (ipykernel)",
   "language": "python",
   "name": "python3"
  },
  "language_info": {
   "codemirror_mode": {
    "name": "ipython",
    "version": 3
   },
   "file_extension": ".py",
   "mimetype": "text/x-python",
   "name": "python",
   "nbconvert_exporter": "python",
   "pygments_lexer": "ipython3",
   "version": "3.9.7"
  }
 },
 "nbformat": 4,
 "nbformat_minor": 5
}
